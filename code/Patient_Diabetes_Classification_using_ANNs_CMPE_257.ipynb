{
  "nbformat": 4,
  "nbformat_minor": 0,
  "metadata": {
    "colab": {
      "provenance": []
    },
    "kernelspec": {
      "name": "python3",
      "display_name": "Python 3"
    },
    "language_info": {
      "name": "python"
    }
  },
  "cells": [
    {
      "cell_type": "markdown",
      "source": [
        "**This notebook represents a Classification ANN model**"
      ],
      "metadata": {
        "id": "LBWpEkZBzllC"
      }
    },
    {
      "cell_type": "code",
      "execution_count": 1,
      "metadata": {
        "id": "LDyfqvRYrmbe"
      },
      "outputs": [],
      "source": [
        "import pandas as pd \n",
        "import numpy as np\n",
        "import matplotlib.pyplot as plt\n",
        "import seaborn as sns "
      ]
    },
    {
      "cell_type": "code",
      "source": [
        "df=pd.read_csv('diabetes.csv')\n",
        "df"
      ],
      "metadata": {
        "colab": {
          "base_uri": "https://localhost:8080/",
          "height": 487
        },
        "id": "6btPZ3JMr10c",
        "outputId": "e4e8eb48-5389-4d45-ad8f-4219641d4d4a"
      },
      "execution_count": 2,
      "outputs": [
        {
          "output_type": "execute_result",
          "data": {
            "text/plain": [
              "     Pregnancies  Glucose  BloodPressure  SkinThickness  Insulin   BMI  \\\n",
              "0              6      148             72             35        0  33.6   \n",
              "1              1       85             66             29        0  26.6   \n",
              "2              8      183             64              0        0  23.3   \n",
              "3              1       89             66             23       94  28.1   \n",
              "4              0      137             40             35      168  43.1   \n",
              "..           ...      ...            ...            ...      ...   ...   \n",
              "763           10      101             76             48      180  32.9   \n",
              "764            2      122             70             27        0  36.8   \n",
              "765            5      121             72             23      112  26.2   \n",
              "766            1      126             60              0        0  30.1   \n",
              "767            1       93             70             31        0  30.4   \n",
              "\n",
              "     DiabetesPedigreeFunction  Age  Outcome  \n",
              "0                       0.627   50        1  \n",
              "1                       0.351   31        0  \n",
              "2                       0.672   32        1  \n",
              "3                       0.167   21        0  \n",
              "4                       2.288   33        1  \n",
              "..                        ...  ...      ...  \n",
              "763                     0.171   63        0  \n",
              "764                     0.340   27        0  \n",
              "765                     0.245   30        0  \n",
              "766                     0.349   47        1  \n",
              "767                     0.315   23        0  \n",
              "\n",
              "[768 rows x 9 columns]"
            ],
            "text/html": [
              "\n",
              "  <div id=\"df-ff0299e5-48ea-43da-88cb-4e1af8a72c6a\">\n",
              "    <div class=\"colab-df-container\">\n",
              "      <div>\n",
              "<style scoped>\n",
              "    .dataframe tbody tr th:only-of-type {\n",
              "        vertical-align: middle;\n",
              "    }\n",
              "\n",
              "    .dataframe tbody tr th {\n",
              "        vertical-align: top;\n",
              "    }\n",
              "\n",
              "    .dataframe thead th {\n",
              "        text-align: right;\n",
              "    }\n",
              "</style>\n",
              "<table border=\"1\" class=\"dataframe\">\n",
              "  <thead>\n",
              "    <tr style=\"text-align: right;\">\n",
              "      <th></th>\n",
              "      <th>Pregnancies</th>\n",
              "      <th>Glucose</th>\n",
              "      <th>BloodPressure</th>\n",
              "      <th>SkinThickness</th>\n",
              "      <th>Insulin</th>\n",
              "      <th>BMI</th>\n",
              "      <th>DiabetesPedigreeFunction</th>\n",
              "      <th>Age</th>\n",
              "      <th>Outcome</th>\n",
              "    </tr>\n",
              "  </thead>\n",
              "  <tbody>\n",
              "    <tr>\n",
              "      <th>0</th>\n",
              "      <td>6</td>\n",
              "      <td>148</td>\n",
              "      <td>72</td>\n",
              "      <td>35</td>\n",
              "      <td>0</td>\n",
              "      <td>33.6</td>\n",
              "      <td>0.627</td>\n",
              "      <td>50</td>\n",
              "      <td>1</td>\n",
              "    </tr>\n",
              "    <tr>\n",
              "      <th>1</th>\n",
              "      <td>1</td>\n",
              "      <td>85</td>\n",
              "      <td>66</td>\n",
              "      <td>29</td>\n",
              "      <td>0</td>\n",
              "      <td>26.6</td>\n",
              "      <td>0.351</td>\n",
              "      <td>31</td>\n",
              "      <td>0</td>\n",
              "    </tr>\n",
              "    <tr>\n",
              "      <th>2</th>\n",
              "      <td>8</td>\n",
              "      <td>183</td>\n",
              "      <td>64</td>\n",
              "      <td>0</td>\n",
              "      <td>0</td>\n",
              "      <td>23.3</td>\n",
              "      <td>0.672</td>\n",
              "      <td>32</td>\n",
              "      <td>1</td>\n",
              "    </tr>\n",
              "    <tr>\n",
              "      <th>3</th>\n",
              "      <td>1</td>\n",
              "      <td>89</td>\n",
              "      <td>66</td>\n",
              "      <td>23</td>\n",
              "      <td>94</td>\n",
              "      <td>28.1</td>\n",
              "      <td>0.167</td>\n",
              "      <td>21</td>\n",
              "      <td>0</td>\n",
              "    </tr>\n",
              "    <tr>\n",
              "      <th>4</th>\n",
              "      <td>0</td>\n",
              "      <td>137</td>\n",
              "      <td>40</td>\n",
              "      <td>35</td>\n",
              "      <td>168</td>\n",
              "      <td>43.1</td>\n",
              "      <td>2.288</td>\n",
              "      <td>33</td>\n",
              "      <td>1</td>\n",
              "    </tr>\n",
              "    <tr>\n",
              "      <th>...</th>\n",
              "      <td>...</td>\n",
              "      <td>...</td>\n",
              "      <td>...</td>\n",
              "      <td>...</td>\n",
              "      <td>...</td>\n",
              "      <td>...</td>\n",
              "      <td>...</td>\n",
              "      <td>...</td>\n",
              "      <td>...</td>\n",
              "    </tr>\n",
              "    <tr>\n",
              "      <th>763</th>\n",
              "      <td>10</td>\n",
              "      <td>101</td>\n",
              "      <td>76</td>\n",
              "      <td>48</td>\n",
              "      <td>180</td>\n",
              "      <td>32.9</td>\n",
              "      <td>0.171</td>\n",
              "      <td>63</td>\n",
              "      <td>0</td>\n",
              "    </tr>\n",
              "    <tr>\n",
              "      <th>764</th>\n",
              "      <td>2</td>\n",
              "      <td>122</td>\n",
              "      <td>70</td>\n",
              "      <td>27</td>\n",
              "      <td>0</td>\n",
              "      <td>36.8</td>\n",
              "      <td>0.340</td>\n",
              "      <td>27</td>\n",
              "      <td>0</td>\n",
              "    </tr>\n",
              "    <tr>\n",
              "      <th>765</th>\n",
              "      <td>5</td>\n",
              "      <td>121</td>\n",
              "      <td>72</td>\n",
              "      <td>23</td>\n",
              "      <td>112</td>\n",
              "      <td>26.2</td>\n",
              "      <td>0.245</td>\n",
              "      <td>30</td>\n",
              "      <td>0</td>\n",
              "    </tr>\n",
              "    <tr>\n",
              "      <th>766</th>\n",
              "      <td>1</td>\n",
              "      <td>126</td>\n",
              "      <td>60</td>\n",
              "      <td>0</td>\n",
              "      <td>0</td>\n",
              "      <td>30.1</td>\n",
              "      <td>0.349</td>\n",
              "      <td>47</td>\n",
              "      <td>1</td>\n",
              "    </tr>\n",
              "    <tr>\n",
              "      <th>767</th>\n",
              "      <td>1</td>\n",
              "      <td>93</td>\n",
              "      <td>70</td>\n",
              "      <td>31</td>\n",
              "      <td>0</td>\n",
              "      <td>30.4</td>\n",
              "      <td>0.315</td>\n",
              "      <td>23</td>\n",
              "      <td>0</td>\n",
              "    </tr>\n",
              "  </tbody>\n",
              "</table>\n",
              "<p>768 rows × 9 columns</p>\n",
              "</div>\n",
              "      <button class=\"colab-df-convert\" onclick=\"convertToInteractive('df-ff0299e5-48ea-43da-88cb-4e1af8a72c6a')\"\n",
              "              title=\"Convert this dataframe to an interactive table.\"\n",
              "              style=\"display:none;\">\n",
              "        \n",
              "  <svg xmlns=\"http://www.w3.org/2000/svg\" height=\"24px\"viewBox=\"0 0 24 24\"\n",
              "       width=\"24px\">\n",
              "    <path d=\"M0 0h24v24H0V0z\" fill=\"none\"/>\n",
              "    <path d=\"M18.56 5.44l.94 2.06.94-2.06 2.06-.94-2.06-.94-.94-2.06-.94 2.06-2.06.94zm-11 1L8.5 8.5l.94-2.06 2.06-.94-2.06-.94L8.5 2.5l-.94 2.06-2.06.94zm10 10l.94 2.06.94-2.06 2.06-.94-2.06-.94-.94-2.06-.94 2.06-2.06.94z\"/><path d=\"M17.41 7.96l-1.37-1.37c-.4-.4-.92-.59-1.43-.59-.52 0-1.04.2-1.43.59L10.3 9.45l-7.72 7.72c-.78.78-.78 2.05 0 2.83L4 21.41c.39.39.9.59 1.41.59.51 0 1.02-.2 1.41-.59l7.78-7.78 2.81-2.81c.8-.78.8-2.07 0-2.86zM5.41 20L4 18.59l7.72-7.72 1.47 1.35L5.41 20z\"/>\n",
              "  </svg>\n",
              "      </button>\n",
              "      \n",
              "  <style>\n",
              "    .colab-df-container {\n",
              "      display:flex;\n",
              "      flex-wrap:wrap;\n",
              "      gap: 12px;\n",
              "    }\n",
              "\n",
              "    .colab-df-convert {\n",
              "      background-color: #E8F0FE;\n",
              "      border: none;\n",
              "      border-radius: 50%;\n",
              "      cursor: pointer;\n",
              "      display: none;\n",
              "      fill: #1967D2;\n",
              "      height: 32px;\n",
              "      padding: 0 0 0 0;\n",
              "      width: 32px;\n",
              "    }\n",
              "\n",
              "    .colab-df-convert:hover {\n",
              "      background-color: #E2EBFA;\n",
              "      box-shadow: 0px 1px 2px rgba(60, 64, 67, 0.3), 0px 1px 3px 1px rgba(60, 64, 67, 0.15);\n",
              "      fill: #174EA6;\n",
              "    }\n",
              "\n",
              "    [theme=dark] .colab-df-convert {\n",
              "      background-color: #3B4455;\n",
              "      fill: #D2E3FC;\n",
              "    }\n",
              "\n",
              "    [theme=dark] .colab-df-convert:hover {\n",
              "      background-color: #434B5C;\n",
              "      box-shadow: 0px 1px 3px 1px rgba(0, 0, 0, 0.15);\n",
              "      filter: drop-shadow(0px 1px 2px rgba(0, 0, 0, 0.3));\n",
              "      fill: #FFFFFF;\n",
              "    }\n",
              "  </style>\n",
              "\n",
              "      <script>\n",
              "        const buttonEl =\n",
              "          document.querySelector('#df-ff0299e5-48ea-43da-88cb-4e1af8a72c6a button.colab-df-convert');\n",
              "        buttonEl.style.display =\n",
              "          google.colab.kernel.accessAllowed ? 'block' : 'none';\n",
              "\n",
              "        async function convertToInteractive(key) {\n",
              "          const element = document.querySelector('#df-ff0299e5-48ea-43da-88cb-4e1af8a72c6a');\n",
              "          const dataTable =\n",
              "            await google.colab.kernel.invokeFunction('convertToInteractive',\n",
              "                                                     [key], {});\n",
              "          if (!dataTable) return;\n",
              "\n",
              "          const docLinkHtml = 'Like what you see? Visit the ' +\n",
              "            '<a target=\"_blank\" href=https://colab.research.google.com/notebooks/data_table.ipynb>data table notebook</a>'\n",
              "            + ' to learn more about interactive tables.';\n",
              "          element.innerHTML = '';\n",
              "          dataTable['output_type'] = 'display_data';\n",
              "          await google.colab.output.renderOutput(dataTable, element);\n",
              "          const docLink = document.createElement('div');\n",
              "          docLink.innerHTML = docLinkHtml;\n",
              "          element.appendChild(docLink);\n",
              "        }\n",
              "      </script>\n",
              "    </div>\n",
              "  </div>\n",
              "  "
            ]
          },
          "metadata": {},
          "execution_count": 2
        }
      ]
    },
    {
      "cell_type": "code",
      "source": [
        "df.describe().transpose()"
      ],
      "metadata": {
        "colab": {
          "base_uri": "https://localhost:8080/",
          "height": 375
        },
        "id": "nA11o_GYr3QB",
        "outputId": "1c583412-c3dd-45d1-9aa3-096448cba262"
      },
      "execution_count": 3,
      "outputs": [
        {
          "output_type": "execute_result",
          "data": {
            "text/plain": [
              "                          count        mean         std     min       25%  \\\n",
              "Pregnancies               768.0    3.845052    3.369578   0.000   1.00000   \n",
              "Glucose                   768.0  120.894531   31.972618   0.000  99.00000   \n",
              "BloodPressure             768.0   69.105469   19.355807   0.000  62.00000   \n",
              "SkinThickness             768.0   20.536458   15.952218   0.000   0.00000   \n",
              "Insulin                   768.0   79.799479  115.244002   0.000   0.00000   \n",
              "BMI                       768.0   31.992578    7.884160   0.000  27.30000   \n",
              "DiabetesPedigreeFunction  768.0    0.471876    0.331329   0.078   0.24375   \n",
              "Age                       768.0   33.240885   11.760232  21.000  24.00000   \n",
              "Outcome                   768.0    0.348958    0.476951   0.000   0.00000   \n",
              "\n",
              "                               50%        75%     max  \n",
              "Pregnancies                 3.0000    6.00000   17.00  \n",
              "Glucose                   117.0000  140.25000  199.00  \n",
              "BloodPressure              72.0000   80.00000  122.00  \n",
              "SkinThickness              23.0000   32.00000   99.00  \n",
              "Insulin                    30.5000  127.25000  846.00  \n",
              "BMI                        32.0000   36.60000   67.10  \n",
              "DiabetesPedigreeFunction    0.3725    0.62625    2.42  \n",
              "Age                        29.0000   41.00000   81.00  \n",
              "Outcome                     0.0000    1.00000    1.00  "
            ],
            "text/html": [
              "\n",
              "  <div id=\"df-3bcac3e7-adb8-4002-82bb-0890bda297b4\">\n",
              "    <div class=\"colab-df-container\">\n",
              "      <div>\n",
              "<style scoped>\n",
              "    .dataframe tbody tr th:only-of-type {\n",
              "        vertical-align: middle;\n",
              "    }\n",
              "\n",
              "    .dataframe tbody tr th {\n",
              "        vertical-align: top;\n",
              "    }\n",
              "\n",
              "    .dataframe thead th {\n",
              "        text-align: right;\n",
              "    }\n",
              "</style>\n",
              "<table border=\"1\" class=\"dataframe\">\n",
              "  <thead>\n",
              "    <tr style=\"text-align: right;\">\n",
              "      <th></th>\n",
              "      <th>count</th>\n",
              "      <th>mean</th>\n",
              "      <th>std</th>\n",
              "      <th>min</th>\n",
              "      <th>25%</th>\n",
              "      <th>50%</th>\n",
              "      <th>75%</th>\n",
              "      <th>max</th>\n",
              "    </tr>\n",
              "  </thead>\n",
              "  <tbody>\n",
              "    <tr>\n",
              "      <th>Pregnancies</th>\n",
              "      <td>768.0</td>\n",
              "      <td>3.845052</td>\n",
              "      <td>3.369578</td>\n",
              "      <td>0.000</td>\n",
              "      <td>1.00000</td>\n",
              "      <td>3.0000</td>\n",
              "      <td>6.00000</td>\n",
              "      <td>17.00</td>\n",
              "    </tr>\n",
              "    <tr>\n",
              "      <th>Glucose</th>\n",
              "      <td>768.0</td>\n",
              "      <td>120.894531</td>\n",
              "      <td>31.972618</td>\n",
              "      <td>0.000</td>\n",
              "      <td>99.00000</td>\n",
              "      <td>117.0000</td>\n",
              "      <td>140.25000</td>\n",
              "      <td>199.00</td>\n",
              "    </tr>\n",
              "    <tr>\n",
              "      <th>BloodPressure</th>\n",
              "      <td>768.0</td>\n",
              "      <td>69.105469</td>\n",
              "      <td>19.355807</td>\n",
              "      <td>0.000</td>\n",
              "      <td>62.00000</td>\n",
              "      <td>72.0000</td>\n",
              "      <td>80.00000</td>\n",
              "      <td>122.00</td>\n",
              "    </tr>\n",
              "    <tr>\n",
              "      <th>SkinThickness</th>\n",
              "      <td>768.0</td>\n",
              "      <td>20.536458</td>\n",
              "      <td>15.952218</td>\n",
              "      <td>0.000</td>\n",
              "      <td>0.00000</td>\n",
              "      <td>23.0000</td>\n",
              "      <td>32.00000</td>\n",
              "      <td>99.00</td>\n",
              "    </tr>\n",
              "    <tr>\n",
              "      <th>Insulin</th>\n",
              "      <td>768.0</td>\n",
              "      <td>79.799479</td>\n",
              "      <td>115.244002</td>\n",
              "      <td>0.000</td>\n",
              "      <td>0.00000</td>\n",
              "      <td>30.5000</td>\n",
              "      <td>127.25000</td>\n",
              "      <td>846.00</td>\n",
              "    </tr>\n",
              "    <tr>\n",
              "      <th>BMI</th>\n",
              "      <td>768.0</td>\n",
              "      <td>31.992578</td>\n",
              "      <td>7.884160</td>\n",
              "      <td>0.000</td>\n",
              "      <td>27.30000</td>\n",
              "      <td>32.0000</td>\n",
              "      <td>36.60000</td>\n",
              "      <td>67.10</td>\n",
              "    </tr>\n",
              "    <tr>\n",
              "      <th>DiabetesPedigreeFunction</th>\n",
              "      <td>768.0</td>\n",
              "      <td>0.471876</td>\n",
              "      <td>0.331329</td>\n",
              "      <td>0.078</td>\n",
              "      <td>0.24375</td>\n",
              "      <td>0.3725</td>\n",
              "      <td>0.62625</td>\n",
              "      <td>2.42</td>\n",
              "    </tr>\n",
              "    <tr>\n",
              "      <th>Age</th>\n",
              "      <td>768.0</td>\n",
              "      <td>33.240885</td>\n",
              "      <td>11.760232</td>\n",
              "      <td>21.000</td>\n",
              "      <td>24.00000</td>\n",
              "      <td>29.0000</td>\n",
              "      <td>41.00000</td>\n",
              "      <td>81.00</td>\n",
              "    </tr>\n",
              "    <tr>\n",
              "      <th>Outcome</th>\n",
              "      <td>768.0</td>\n",
              "      <td>0.348958</td>\n",
              "      <td>0.476951</td>\n",
              "      <td>0.000</td>\n",
              "      <td>0.00000</td>\n",
              "      <td>0.0000</td>\n",
              "      <td>1.00000</td>\n",
              "      <td>1.00</td>\n",
              "    </tr>\n",
              "  </tbody>\n",
              "</table>\n",
              "</div>\n",
              "      <button class=\"colab-df-convert\" onclick=\"convertToInteractive('df-3bcac3e7-adb8-4002-82bb-0890bda297b4')\"\n",
              "              title=\"Convert this dataframe to an interactive table.\"\n",
              "              style=\"display:none;\">\n",
              "        \n",
              "  <svg xmlns=\"http://www.w3.org/2000/svg\" height=\"24px\"viewBox=\"0 0 24 24\"\n",
              "       width=\"24px\">\n",
              "    <path d=\"M0 0h24v24H0V0z\" fill=\"none\"/>\n",
              "    <path d=\"M18.56 5.44l.94 2.06.94-2.06 2.06-.94-2.06-.94-.94-2.06-.94 2.06-2.06.94zm-11 1L8.5 8.5l.94-2.06 2.06-.94-2.06-.94L8.5 2.5l-.94 2.06-2.06.94zm10 10l.94 2.06.94-2.06 2.06-.94-2.06-.94-.94-2.06-.94 2.06-2.06.94z\"/><path d=\"M17.41 7.96l-1.37-1.37c-.4-.4-.92-.59-1.43-.59-.52 0-1.04.2-1.43.59L10.3 9.45l-7.72 7.72c-.78.78-.78 2.05 0 2.83L4 21.41c.39.39.9.59 1.41.59.51 0 1.02-.2 1.41-.59l7.78-7.78 2.81-2.81c.8-.78.8-2.07 0-2.86zM5.41 20L4 18.59l7.72-7.72 1.47 1.35L5.41 20z\"/>\n",
              "  </svg>\n",
              "      </button>\n",
              "      \n",
              "  <style>\n",
              "    .colab-df-container {\n",
              "      display:flex;\n",
              "      flex-wrap:wrap;\n",
              "      gap: 12px;\n",
              "    }\n",
              "\n",
              "    .colab-df-convert {\n",
              "      background-color: #E8F0FE;\n",
              "      border: none;\n",
              "      border-radius: 50%;\n",
              "      cursor: pointer;\n",
              "      display: none;\n",
              "      fill: #1967D2;\n",
              "      height: 32px;\n",
              "      padding: 0 0 0 0;\n",
              "      width: 32px;\n",
              "    }\n",
              "\n",
              "    .colab-df-convert:hover {\n",
              "      background-color: #E2EBFA;\n",
              "      box-shadow: 0px 1px 2px rgba(60, 64, 67, 0.3), 0px 1px 3px 1px rgba(60, 64, 67, 0.15);\n",
              "      fill: #174EA6;\n",
              "    }\n",
              "\n",
              "    [theme=dark] .colab-df-convert {\n",
              "      background-color: #3B4455;\n",
              "      fill: #D2E3FC;\n",
              "    }\n",
              "\n",
              "    [theme=dark] .colab-df-convert:hover {\n",
              "      background-color: #434B5C;\n",
              "      box-shadow: 0px 1px 3px 1px rgba(0, 0, 0, 0.15);\n",
              "      filter: drop-shadow(0px 1px 2px rgba(0, 0, 0, 0.3));\n",
              "      fill: #FFFFFF;\n",
              "    }\n",
              "  </style>\n",
              "\n",
              "      <script>\n",
              "        const buttonEl =\n",
              "          document.querySelector('#df-3bcac3e7-adb8-4002-82bb-0890bda297b4 button.colab-df-convert');\n",
              "        buttonEl.style.display =\n",
              "          google.colab.kernel.accessAllowed ? 'block' : 'none';\n",
              "\n",
              "        async function convertToInteractive(key) {\n",
              "          const element = document.querySelector('#df-3bcac3e7-adb8-4002-82bb-0890bda297b4');\n",
              "          const dataTable =\n",
              "            await google.colab.kernel.invokeFunction('convertToInteractive',\n",
              "                                                     [key], {});\n",
              "          if (!dataTable) return;\n",
              "\n",
              "          const docLinkHtml = 'Like what you see? Visit the ' +\n",
              "            '<a target=\"_blank\" href=https://colab.research.google.com/notebooks/data_table.ipynb>data table notebook</a>'\n",
              "            + ' to learn more about interactive tables.';\n",
              "          element.innerHTML = '';\n",
              "          dataTable['output_type'] = 'display_data';\n",
              "          await google.colab.output.renderOutput(dataTable, element);\n",
              "          const docLink = document.createElement('div');\n",
              "          docLink.innerHTML = docLinkHtml;\n",
              "          element.appendChild(docLink);\n",
              "        }\n",
              "      </script>\n",
              "    </div>\n",
              "  </div>\n",
              "  "
            ]
          },
          "metadata": {},
          "execution_count": 3
        }
      ]
    },
    {
      "cell_type": "code",
      "source": [
        "df.info()"
      ],
      "metadata": {
        "colab": {
          "base_uri": "https://localhost:8080/"
        },
        "id": "HR47s9mEr555",
        "outputId": "52e4c46d-e7f6-42cd-bb90-0bdbe1f69b6d"
      },
      "execution_count": 4,
      "outputs": [
        {
          "output_type": "stream",
          "name": "stdout",
          "text": [
            "<class 'pandas.core.frame.DataFrame'>\n",
            "RangeIndex: 768 entries, 0 to 767\n",
            "Data columns (total 9 columns):\n",
            " #   Column                    Non-Null Count  Dtype  \n",
            "---  ------                    --------------  -----  \n",
            " 0   Pregnancies               768 non-null    int64  \n",
            " 1   Glucose                   768 non-null    int64  \n",
            " 2   BloodPressure             768 non-null    int64  \n",
            " 3   SkinThickness             768 non-null    int64  \n",
            " 4   Insulin                   768 non-null    int64  \n",
            " 5   BMI                       768 non-null    float64\n",
            " 6   DiabetesPedigreeFunction  768 non-null    float64\n",
            " 7   Age                       768 non-null    int64  \n",
            " 8   Outcome                   768 non-null    int64  \n",
            "dtypes: float64(2), int64(7)\n",
            "memory usage: 54.1 KB\n"
          ]
        }
      ]
    },
    {
      "cell_type": "code",
      "source": [
        "df.corr()['Outcome'].sort_values().plot(kind='bar')"
      ],
      "metadata": {
        "colab": {
          "base_uri": "https://localhost:8080/",
          "height": 404
        },
        "id": "oSaq01u_r_kX",
        "outputId": "76e9bd23-0b37-4551-9ffc-dbbfa72dd19b"
      },
      "execution_count": 5,
      "outputs": [
        {
          "output_type": "execute_result",
          "data": {
            "text/plain": [
              "<matplotlib.axes._subplots.AxesSubplot at 0x7fbd340ff160>"
            ]
          },
          "metadata": {},
          "execution_count": 5
        },
        {
          "output_type": "display_data",
          "data": {
            "text/plain": [
              "<Figure size 432x288 with 1 Axes>"
            ],
            "image/png": "[encoded data removed]"
          },
          "metadata": {
            "needs_background": "light"
          }
        }
      ]
    },
    {
      "cell_type": "code",
      "source": [
        "X=df.drop('Outcome',axis=1).values"
      ],
      "metadata": {
        "id": "cyw4GqA7sNtJ"
      },
      "execution_count": 6,
      "outputs": []
    },
    {
      "cell_type": "code",
      "source": [
        "y=df['Outcome'].values"
      ],
      "metadata": {
        "id": "tbiepZBMs46d"
      },
      "execution_count": 7,
      "outputs": []
    },
    {
      "cell_type": "code",
      "source": [
        "X.shape"
      ],
      "metadata": {
        "colab": {
          "base_uri": "https://localhost:8080/"
        },
        "id": "U1OzeYv6s5UH",
        "outputId": "d2646a4d-5357-4348-9bb1-7bfa4a1a940b"
      },
      "execution_count": 8,
      "outputs": [
        {
          "output_type": "execute_result",
          "data": {
            "text/plain": [
              "(768, 8)"
            ]
          },
          "metadata": {},
          "execution_count": 8
        }
      ]
    },
    {
      "cell_type": "code",
      "source": [
        "y.shape"
      ],
      "metadata": {
        "colab": {
          "base_uri": "https://localhost:8080/"
        },
        "id": "QrS0UORLtHXe",
        "outputId": "75697c09-d894-4f08-f650-7c8434cb2ba3"
      },
      "execution_count": 9,
      "outputs": [
        {
          "output_type": "execute_result",
          "data": {
            "text/plain": [
              "(768,)"
            ]
          },
          "metadata": {},
          "execution_count": 9
        }
      ]
    },
    {
      "cell_type": "code",
      "source": [
        "from sklearn.model_selection import train_test_split"
      ],
      "metadata": {
        "id": "f4bm7T8BtKJ2"
      },
      "execution_count": 10,
      "outputs": []
    },
    {
      "cell_type": "code",
      "source": [
        "X_train, X_test, y_train, y_test = train_test_split(X, y, test_size=0.33,shuffle=True)"
      ],
      "metadata": {
        "id": "ZqAh257BtdiB"
      },
      "execution_count": 11,
      "outputs": []
    },
    {
      "cell_type": "code",
      "source": [
        "from sklearn.preprocessing import MinMaxScaler"
      ],
      "metadata": {
        "id": "LXI71-6EtkCH"
      },
      "execution_count": 12,
      "outputs": []
    },
    {
      "cell_type": "code",
      "source": [
        "scaler=MinMaxScaler()"
      ],
      "metadata": {
        "id": "J-inlF7bt7cA"
      },
      "execution_count": 13,
      "outputs": []
    },
    {
      "cell_type": "code",
      "source": [
        "X_train=scaler.fit_transform(X_train)"
      ],
      "metadata": {
        "id": "2B2GMz_tuCH7"
      },
      "execution_count": 14,
      "outputs": []
    },
    {
      "cell_type": "code",
      "source": [
        "X_test=scaler.transform(X_test)"
      ],
      "metadata": {
        "id": "MgrGe7YouLp1"
      },
      "execution_count": 15,
      "outputs": []
    },
    {
      "cell_type": "code",
      "source": [
        "from tensorflow.keras.layers import Dropout,Dense\n",
        "from tensorflow.keras.callbacks import EarlyStopping\n",
        "from tensorflow.keras.models import Sequential"
      ],
      "metadata": {
        "id": "er-ytSl4uQYH"
      },
      "execution_count": 16,
      "outputs": []
    },
    {
      "cell_type": "code",
      "source": [
        "from tensorflow.keras.callbacks import EarlyStopping"
      ],
      "metadata": {
        "id": "-kf0M6H9vctZ"
      },
      "execution_count": 17,
      "outputs": []
    },
    {
      "cell_type": "code",
      "source": [
        "early_stop=EarlyStopping(monitor='val_loss',mode='min',verbose=1,patience=20)"
      ],
      "metadata": {
        "id": "aWlbjVh3vntQ"
      },
      "execution_count": 18,
      "outputs": []
    },
    {
      "cell_type": "code",
      "source": [
        "model=Sequential()\n",
        "model.add(Dense(40,activation='relu'))\n",
        "model.add(Dropout(0.3))\n",
        "model.add(Dense(20,activation='relu'))\n",
        "model.add(Dropout(0.35))\n",
        "model.add(Dense(10,activation='relu'))\n",
        "model.add(Dropout(0.3))\n",
        "model.add(Dense(1,activation='sigmoid'))\n",
        "model.compile(optimizer='adam',loss='binary_crossentropy',metrics=['accuracy'])"
      ],
      "metadata": {
        "id": "8fBFOVP7u3Q4"
      },
      "execution_count": 19,
      "outputs": []
    },
    {
      "cell_type": "code",
      "source": [
        "model.fit(X_train,y_train,validation_data=(X_test,y_test),epochs=500,callbacks=[early_stop])"
      ],
      "metadata": {
        "colab": {
          "base_uri": "https://localhost:8080/"
        },
        "id": "bGpI3azsvaU4",
        "outputId": "c094ad5c-ce5e-4c64-fad3-83fd28ec0e15"
      },
      "execution_count": 20,
      "outputs": [
        {
          "output_type": "stream",
          "name": "stdout",
          "text": [
            "Epoch 1/500\n",
            "17/17 [==============================] - 1s 25ms/step - loss: 0.6931 - accuracy: 0.5486 - val_loss: 0.6821 - val_accuracy: 0.6378\n",
            "Epoch 2/500\n",
            "17/17 [==============================] - 0s 7ms/step - loss: 0.6748 - accuracy: 0.6206 - val_loss: 0.6713 - val_accuracy: 0.6378\n",
            "Epoch 3/500\n",
            "17/17 [==============================] - 0s 7ms/step - loss: 0.6675 - accuracy: 0.6498 - val_loss: 0.6655 - val_accuracy: 0.6378\n",
            "Epoch 4/500\n",
            "17/17 [==============================] - 0s 6ms/step - loss: 0.6712 - accuracy: 0.6556 - val_loss: 0.6631 - val_accuracy: 0.6378\n",
            "Epoch 5/500\n",
            "17/17 [==============================] - 0s 4ms/step - loss: 0.6561 - accuracy: 0.6654 - val_loss: 0.6591 - val_accuracy: 0.6378\n",
            "Epoch 6/500\n",
            "17/17 [==============================] - 0s 5ms/step - loss: 0.6606 - accuracy: 0.6673 - val_loss: 0.6562 - val_accuracy: 0.6378\n",
            "Epoch 7/500\n",
            "17/17 [==============================] - 0s 4ms/step - loss: 0.6529 - accuracy: 0.6576 - val_loss: 0.6547 - val_accuracy: 0.6378\n",
            "Epoch 8/500\n",
            "17/17 [==============================] - 0s 4ms/step - loss: 0.6587 - accuracy: 0.6498 - val_loss: 0.6520 - val_accuracy: 0.6378\n",
            "Epoch 9/500\n",
            "17/17 [==============================] - 0s 4ms/step - loss: 0.6566 - accuracy: 0.6576 - val_loss: 0.6486 - val_accuracy: 0.6378\n",
            "Epoch 10/500\n",
            "17/17 [==============================] - 0s 4ms/step - loss: 0.6588 - accuracy: 0.6537 - val_loss: 0.6456 - val_accuracy: 0.6378\n",
            "Epoch 11/500\n",
            "17/17 [==============================] - 0s 5ms/step - loss: 0.6476 - accuracy: 0.6595 - val_loss: 0.6421 - val_accuracy: 0.6378\n",
            "Epoch 12/500\n",
            "17/17 [==============================] - 0s 5ms/step - loss: 0.6364 - accuracy: 0.6595 - val_loss: 0.6382 - val_accuracy: 0.6378\n",
            "Epoch 13/500\n",
            "17/17 [==============================] - 0s 4ms/step - loss: 0.6470 - accuracy: 0.6595 - val_loss: 0.6336 - val_accuracy: 0.6378\n",
            "Epoch 14/500\n",
            "17/17 [==============================] - 0s 6ms/step - loss: 0.6338 - accuracy: 0.6576 - val_loss: 0.6295 - val_accuracy: 0.6378\n",
            "Epoch 15/500\n",
            "17/17 [==============================] - 0s 5ms/step - loss: 0.6384 - accuracy: 0.6595 - val_loss: 0.6257 - val_accuracy: 0.6378\n",
            "Epoch 16/500\n",
            "17/17 [==============================] - 0s 5ms/step - loss: 0.6354 - accuracy: 0.6576 - val_loss: 0.6217 - val_accuracy: 0.6378\n",
            "Epoch 17/500\n",
            "17/17 [==============================] - 0s 4ms/step - loss: 0.6260 - accuracy: 0.6595 - val_loss: 0.6178 - val_accuracy: 0.6378\n",
            "Epoch 18/500\n",
            "17/17 [==============================] - 0s 4ms/step - loss: 0.6235 - accuracy: 0.6576 - val_loss: 0.6122 - val_accuracy: 0.6378\n",
            "Epoch 19/500\n",
            "17/17 [==============================] - 0s 4ms/step - loss: 0.6175 - accuracy: 0.6615 - val_loss: 0.6077 - val_accuracy: 0.6378\n",
            "Epoch 20/500\n",
            "17/17 [==============================] - 0s 4ms/step - loss: 0.6185 - accuracy: 0.6595 - val_loss: 0.6025 - val_accuracy: 0.6378\n",
            "Epoch 21/500\n",
            "17/17 [==============================] - 0s 4ms/step - loss: 0.6136 - accuracy: 0.6732 - val_loss: 0.5971 - val_accuracy: 0.6378\n",
            "Epoch 22/500\n",
            "17/17 [==============================] - 0s 5ms/step - loss: 0.6100 - accuracy: 0.6634 - val_loss: 0.5914 - val_accuracy: 0.6378\n",
            "Epoch 23/500\n",
            "17/17 [==============================] - 0s 4ms/step - loss: 0.6054 - accuracy: 0.6751 - val_loss: 0.5853 - val_accuracy: 0.6417\n",
            "Epoch 24/500\n",
            "17/17 [==============================] - 0s 4ms/step - loss: 0.5979 - accuracy: 0.6751 - val_loss: 0.5805 - val_accuracy: 0.6417\n",
            "Epoch 25/500\n",
            "17/17 [==============================] - 0s 5ms/step - loss: 0.5965 - accuracy: 0.6751 - val_loss: 0.5756 - val_accuracy: 0.6575\n",
            "Epoch 26/500\n",
            "17/17 [==============================] - 0s 5ms/step - loss: 0.5883 - accuracy: 0.6732 - val_loss: 0.5708 - val_accuracy: 0.6654\n",
            "Epoch 27/500\n",
            "17/17 [==============================] - 0s 4ms/step - loss: 0.6114 - accuracy: 0.6790 - val_loss: 0.5670 - val_accuracy: 0.6772\n",
            "Epoch 28/500\n",
            "17/17 [==============================] - 0s 4ms/step - loss: 0.5941 - accuracy: 0.6712 - val_loss: 0.5626 - val_accuracy: 0.6772\n",
            "Epoch 29/500\n",
            "17/17 [==============================] - 0s 4ms/step - loss: 0.5932 - accuracy: 0.6868 - val_loss: 0.5590 - val_accuracy: 0.6811\n",
            "Epoch 30/500\n",
            "17/17 [==============================] - 0s 4ms/step - loss: 0.5797 - accuracy: 0.7062 - val_loss: 0.5526 - val_accuracy: 0.7008\n",
            "Epoch 31/500\n",
            "17/17 [==============================] - 0s 5ms/step - loss: 0.5682 - accuracy: 0.7315 - val_loss: 0.5480 - val_accuracy: 0.7047\n",
            "Epoch 32/500\n",
            "17/17 [==============================] - 0s 4ms/step - loss: 0.5795 - accuracy: 0.6848 - val_loss: 0.5468 - val_accuracy: 0.7047\n",
            "Epoch 33/500\n",
            "17/17 [==============================] - 0s 4ms/step - loss: 0.5772 - accuracy: 0.6984 - val_loss: 0.5497 - val_accuracy: 0.6890\n",
            "Epoch 34/500\n",
            "17/17 [==============================] - 0s 5ms/step - loss: 0.5737 - accuracy: 0.6809 - val_loss: 0.5421 - val_accuracy: 0.7008\n",
            "Epoch 35/500\n",
            "17/17 [==============================] - 0s 4ms/step - loss: 0.5818 - accuracy: 0.7062 - val_loss: 0.5407 - val_accuracy: 0.7165\n",
            "Epoch 36/500\n",
            "17/17 [==============================] - 0s 4ms/step - loss: 0.5470 - accuracy: 0.7257 - val_loss: 0.5352 - val_accuracy: 0.7126\n",
            "Epoch 37/500\n",
            "17/17 [==============================] - 0s 4ms/step - loss: 0.5649 - accuracy: 0.7140 - val_loss: 0.5325 - val_accuracy: 0.7087\n",
            "Epoch 38/500\n",
            "17/17 [==============================] - 0s 5ms/step - loss: 0.5539 - accuracy: 0.7121 - val_loss: 0.5316 - val_accuracy: 0.7087\n",
            "Epoch 39/500\n",
            "17/17 [==============================] - 0s 5ms/step - loss: 0.5514 - accuracy: 0.7218 - val_loss: 0.5270 - val_accuracy: 0.7165\n",
            "Epoch 40/500\n",
            "17/17 [==============================] - 0s 5ms/step - loss: 0.5563 - accuracy: 0.7121 - val_loss: 0.5204 - val_accuracy: 0.7283\n",
            "Epoch 41/500\n",
            "17/17 [==============================] - 0s 4ms/step - loss: 0.5333 - accuracy: 0.7257 - val_loss: 0.5179 - val_accuracy: 0.7087\n",
            "Epoch 42/500\n",
            "17/17 [==============================] - 0s 4ms/step - loss: 0.5452 - accuracy: 0.7354 - val_loss: 0.5163 - val_accuracy: 0.7402\n",
            "Epoch 43/500\n",
            "17/17 [==============================] - 0s 5ms/step - loss: 0.5355 - accuracy: 0.7374 - val_loss: 0.5101 - val_accuracy: 0.7362\n",
            "Epoch 44/500\n",
            "17/17 [==============================] - 0s 4ms/step - loss: 0.5399 - accuracy: 0.7237 - val_loss: 0.5084 - val_accuracy: 0.7362\n",
            "Epoch 45/500\n",
            "17/17 [==============================] - 0s 4ms/step - loss: 0.5355 - accuracy: 0.7432 - val_loss: 0.5144 - val_accuracy: 0.7087\n",
            "Epoch 46/500\n",
            "17/17 [==============================] - 0s 5ms/step - loss: 0.5470 - accuracy: 0.7412 - val_loss: 0.5066 - val_accuracy: 0.7362\n",
            "Epoch 47/500\n",
            "17/17 [==============================] - 0s 4ms/step - loss: 0.5200 - accuracy: 0.7374 - val_loss: 0.5117 - val_accuracy: 0.7165\n",
            "Epoch 48/500\n",
            "17/17 [==============================] - 0s 5ms/step - loss: 0.5516 - accuracy: 0.7218 - val_loss: 0.5083 - val_accuracy: 0.7362\n",
            "Epoch 49/500\n",
            "17/17 [==============================] - 0s 5ms/step - loss: 0.5307 - accuracy: 0.7451 - val_loss: 0.5125 - val_accuracy: 0.7520\n",
            "Epoch 50/500\n",
            "17/17 [==============================] - 0s 4ms/step - loss: 0.5489 - accuracy: 0.7315 - val_loss: 0.5099 - val_accuracy: 0.7244\n",
            "Epoch 51/500\n",
            "17/17 [==============================] - 0s 5ms/step - loss: 0.5218 - accuracy: 0.7471 - val_loss: 0.4990 - val_accuracy: 0.7323\n",
            "Epoch 52/500\n",
            "17/17 [==============================] - 0s 5ms/step - loss: 0.5245 - accuracy: 0.7412 - val_loss: 0.4943 - val_accuracy: 0.7402\n",
            "Epoch 53/500\n",
            "17/17 [==============================] - 0s 4ms/step - loss: 0.5157 - accuracy: 0.7724 - val_loss: 0.4913 - val_accuracy: 0.7441\n",
            "Epoch 54/500\n",
            "17/17 [==============================] - 0s 5ms/step - loss: 0.4963 - accuracy: 0.7763 - val_loss: 0.4897 - val_accuracy: 0.7323\n",
            "Epoch 55/500\n",
            "17/17 [==============================] - 0s 5ms/step - loss: 0.5110 - accuracy: 0.7588 - val_loss: 0.4866 - val_accuracy: 0.7559\n",
            "Epoch 56/500\n",
            "17/17 [==============================] - 0s 5ms/step - loss: 0.4944 - accuracy: 0.7412 - val_loss: 0.4890 - val_accuracy: 0.7362\n",
            "Epoch 57/500\n",
            "17/17 [==============================] - 0s 5ms/step - loss: 0.5283 - accuracy: 0.7432 - val_loss: 0.4884 - val_accuracy: 0.7480\n",
            "Epoch 58/500\n",
            "17/17 [==============================] - 0s 4ms/step - loss: 0.5042 - accuracy: 0.7588 - val_loss: 0.4918 - val_accuracy: 0.7323\n",
            "Epoch 59/500\n",
            "17/17 [==============================] - 0s 4ms/step - loss: 0.4889 - accuracy: 0.7685 - val_loss: 0.4883 - val_accuracy: 0.7362\n",
            "Epoch 60/500\n",
            "17/17 [==============================] - 0s 5ms/step - loss: 0.5079 - accuracy: 0.7646 - val_loss: 0.5014 - val_accuracy: 0.7126\n",
            "Epoch 61/500\n",
            "17/17 [==============================] - 0s 5ms/step - loss: 0.5010 - accuracy: 0.7879 - val_loss: 0.5017 - val_accuracy: 0.7244\n",
            "Epoch 62/500\n",
            "17/17 [==============================] - 0s 5ms/step - loss: 0.4916 - accuracy: 0.7763 - val_loss: 0.4960 - val_accuracy: 0.7402\n",
            "Epoch 63/500\n",
            "17/17 [==============================] - 0s 4ms/step - loss: 0.4946 - accuracy: 0.7646 - val_loss: 0.4939 - val_accuracy: 0.7323\n",
            "Epoch 64/500\n",
            "17/17 [==============================] - 0s 5ms/step - loss: 0.4776 - accuracy: 0.7588 - val_loss: 0.5003 - val_accuracy: 0.7205\n",
            "Epoch 65/500\n",
            "17/17 [==============================] - 0s 4ms/step - loss: 0.5014 - accuracy: 0.7840 - val_loss: 0.4898 - val_accuracy: 0.7362\n",
            "Epoch 66/500\n",
            "17/17 [==============================] - 0s 4ms/step - loss: 0.4936 - accuracy: 0.7724 - val_loss: 0.4933 - val_accuracy: 0.7165\n",
            "Epoch 67/500\n",
            "17/17 [==============================] - 0s 4ms/step - loss: 0.4825 - accuracy: 0.7724 - val_loss: 0.4869 - val_accuracy: 0.7323\n",
            "Epoch 68/500\n",
            "17/17 [==============================] - 0s 4ms/step - loss: 0.4996 - accuracy: 0.7549 - val_loss: 0.4935 - val_accuracy: 0.7244\n",
            "Epoch 69/500\n",
            "17/17 [==============================] - 0s 4ms/step - loss: 0.4918 - accuracy: 0.7821 - val_loss: 0.4933 - val_accuracy: 0.7283\n",
            "Epoch 70/500\n",
            "17/17 [==============================] - 0s 5ms/step - loss: 0.5044 - accuracy: 0.7646 - val_loss: 0.5009 - val_accuracy: 0.7205\n",
            "Epoch 71/500\n",
            "17/17 [==============================] - 0s 4ms/step - loss: 0.4876 - accuracy: 0.7763 - val_loss: 0.5004 - val_accuracy: 0.7165\n",
            "Epoch 72/500\n",
            "17/17 [==============================] - 0s 5ms/step - loss: 0.4880 - accuracy: 0.7860 - val_loss: 0.5034 - val_accuracy: 0.7087\n",
            "Epoch 73/500\n",
            "17/17 [==============================] - 0s 4ms/step - loss: 0.4846 - accuracy: 0.7763 - val_loss: 0.5010 - val_accuracy: 0.7126\n",
            "Epoch 74/500\n",
            "17/17 [==============================] - 0s 4ms/step - loss: 0.4755 - accuracy: 0.7938 - val_loss: 0.4945 - val_accuracy: 0.7165\n",
            "Epoch 75/500\n",
            "17/17 [==============================] - 0s 5ms/step - loss: 0.4792 - accuracy: 0.7782 - val_loss: 0.4898 - val_accuracy: 0.7323\n",
            "Epoch 75: early stopping\n"
          ]
        },
        {
          "output_type": "execute_result",
          "data": {
            "text/plain": [
              "<keras.callbacks.History at 0x7fbcd87db0a0>"
            ]
          },
          "metadata": {},
          "execution_count": 20
        }
      ]
    },
    {
      "cell_type": "code",
      "source": [
        "performence_metrics=pd.DataFrame(model.history.history)\n",
        "performence_metrics.plot()"
      ],
      "metadata": {
        "colab": {
          "base_uri": "https://localhost:8080/",
          "height": 283
        },
        "id": "u8pByBkPwFcH",
        "outputId": "187ca4e5-e28b-47e3-9abe-4a7c3b5390b3"
      },
      "execution_count": 21,
      "outputs": [
        {
          "output_type": "execute_result",
          "data": {
            "text/plain": [
              "<matplotlib.axes._subplots.AxesSubplot at 0x7fbcd1f5f3d0>"
            ]
          },
          "metadata": {},
          "execution_count": 21
        },
        {
          "output_type": "display_data",
          "data": {
            "text/plain": [
              "<Figure size 432x288 with 1 Axes>"
            ],
            "image/png": "[encoded data removed]"
          },
          "metadata": {
            "needs_background": "light"
          }
        }
      ]
    },
    {
      "cell_type": "code",
      "source": [
        "predictions=(model.predict(X_test) > 0.5).astype(\"int32\")"
      ],
      "metadata": {
        "colab": {
          "base_uri": "https://localhost:8080/"
        },
        "id": "phTBA5XjxJIn",
        "outputId": "e8736b54-3209-4543-8730-ecb35b49b134"
      },
      "execution_count": 22,
      "outputs": [
        {
          "output_type": "stream",
          "name": "stdout",
          "text": [
            "8/8 [==============================] - 0s 2ms/step\n"
          ]
        }
      ]
    },
    {
      "cell_type": "code",
      "source": [
        "predictions.shape"
      ],
      "metadata": {
        "colab": {
          "base_uri": "https://localhost:8080/"
        },
        "id": "RzXyd744xkzK",
        "outputId": "b25164a0-6d2f-46a4-8195-b3f9a7570714"
      },
      "execution_count": 23,
      "outputs": [
        {
          "output_type": "execute_result",
          "data": {
            "text/plain": [
              "(254, 1)"
            ]
          },
          "metadata": {},
          "execution_count": 23
        }
      ]
    },
    {
      "cell_type": "code",
      "source": [
        "test_predictions=pd.Series(predictions.reshape(254,))"
      ],
      "metadata": {
        "id": "sMBvxfYgxVam"
      },
      "execution_count": 24,
      "outputs": []
    },
    {
      "cell_type": "code",
      "source": [
        "pred_df=pd.DataFrame(y_test,columns=['Y-True'])"
      ],
      "metadata": {
        "id": "jCWowq4QxYL8"
      },
      "execution_count": 25,
      "outputs": []
    },
    {
      "cell_type": "code",
      "source": [
        "pred_df=pd.concat([pred_df,test_predictions],axis=1)"
      ],
      "metadata": {
        "id": "mtYCZNpCx8By"
      },
      "execution_count": 26,
      "outputs": []
    },
    {
      "cell_type": "code",
      "source": [
        "pred_df.columns=['Y_true','Predicted Y']"
      ],
      "metadata": {
        "id": "MhMxHceBx1cj"
      },
      "execution_count": 27,
      "outputs": []
    },
    {
      "cell_type": "code",
      "source": [
        "from sklearn.metrics import confusion_matrix,classification_report"
      ],
      "metadata": {
        "id": "7azUI0DNyr9H"
      },
      "execution_count": 28,
      "outputs": []
    },
    {
      "cell_type": "code",
      "source": [
        "print(confusion_matrix(y_test,predictions))"
      ],
      "metadata": {
        "colab": {
          "base_uri": "https://localhost:8080/"
        },
        "id": "bFj6N73Wy7SE",
        "outputId": "b2043711-f728-4924-817f-f5536575e185"
      },
      "execution_count": 29,
      "outputs": [
        {
          "output_type": "stream",
          "name": "stdout",
          "text": [
            "[[135  27]\n",
            " [ 41  51]]\n"
          ]
        }
      ]
    },
    {
      "cell_type": "code",
      "source": [
        "cf_mat=confusion_matrix(y_test,predictions)\n",
        "print(sns.heatmap(cf_mat/np.sum(cf_mat), annot=True, fmt='.2%'))"
      ],
      "metadata": {
        "colab": {
          "base_uri": "https://localhost:8080/",
          "height": 283
        },
        "id": "qmOx-CvBeKf2",
        "outputId": "30300298-b2c4-40c1-936d-7e471624f572"
      },
      "execution_count": 32,
      "outputs": [
        {
          "output_type": "stream",
          "name": "stdout",
          "text": [
            "AxesSubplot(0.125,0.125;0.62x0.755)\n"
          ]
        },
        {
          "output_type": "display_data",
          "data": {
            "text/plain": [
              "<Figure size 432x288 with 2 Axes>"
            ],
            "image/png": "[encoded data removed]"
          },
          "metadata": {
            "needs_background": "light"
          }
        }
      ]
    },
    {
      "cell_type": "code",
      "source": [
        "print(classification_report(y_test,predictions))"
      ],
      "metadata": {
        "colab": {
          "base_uri": "https://localhost:8080/"
        },
        "id": "SisYhxT9zGQr",
        "outputId": "ff4fb834-9f2d-4305-93bd-f962e1f5c992"
      },
      "execution_count": 30,
      "outputs": [
        {
          "output_type": "stream",
          "name": "stdout",
          "text": [
            "              precision    recall  f1-score   support\n",
            "\n",
            "           0       0.77      0.83      0.80       162\n",
            "           1       0.65      0.55      0.60        92\n",
            "\n",
            "    accuracy                           0.73       254\n",
            "   macro avg       0.71      0.69      0.70       254\n",
            "weighted avg       0.73      0.73      0.73       254\n",
            "\n"
          ]
        }
      ]
    },
    {
      "cell_type": "code",
      "source": [
        "model.save('diabetes_weights.h5')"
      ],
      "metadata": {
        "id": "PwAA0B1lzKdS"
      },
      "execution_count": 31,
      "outputs": []
    }
  ]
}