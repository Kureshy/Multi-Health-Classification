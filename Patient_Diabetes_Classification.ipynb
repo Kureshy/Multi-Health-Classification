{
  "nbformat": 4,
  "nbformat_minor": 0,
  "metadata": {
    "colab": {
      "provenance": []
    },
    "kernelspec": {
      "name": "python3",
      "display_name": "Python 3"
    },
    "language_info": {
      "name": "python"
    }
  },
  "cells": [
    {
      "cell_type": "markdown",
      "source": [
        "**This notebook represents a Classification ANN model**"
      ],
      "metadata": {
        "id": "LBWpEkZBzllC"
      }
    },
    {
      "cell_type": "code",
      "execution_count": 21,
      "metadata": {
        "id": "LDyfqvRYrmbe"
      },
      "outputs": [],
      "source": [
        "import pandas as pd \n",
        "import numpy as np\n",
        "import matplotlib.pyplot as plt\n",
        "import seaborn as sns "
      ]
    },
    {
      "cell_type": "code",
      "source": [
        "df=pd.read_csv('diabetes.csv')\n",
        "df"
      ],
      "metadata": {
        "colab": {
          "base_uri": "https://localhost:8080/",
          "height": 423
        },
        "id": "6btPZ3JMr10c",
        "outputId": "888b2ba1-b2be-456b-e224-0b3b16c4b1b3"
      },
      "execution_count": 22,
      "outputs": [
        {
          "output_type": "execute_result",
          "data": {
            "text/plain": [
              "     Pregnancies  Glucose  BloodPressure  SkinThickness  Insulin   BMI  \\\n",
              "0              6      148             72             35        0  33.6   \n",
              "1              1       85             66             29        0  26.6   \n",
              "2              8      183             64              0        0  23.3   \n",
              "3              1       89             66             23       94  28.1   \n",
              "4              0      137             40             35      168  43.1   \n",
              "..           ...      ...            ...            ...      ...   ...   \n",
              "763           10      101             76             48      180  32.9   \n",
              "764            2      122             70             27        0  36.8   \n",
              "765            5      121             72             23      112  26.2   \n",
              "766            1      126             60              0        0  30.1   \n",
              "767            1       93             70             31        0  30.4   \n",
              "\n",
              "     DiabetesPedigreeFunction  Age  Outcome  \n",
              "0                       0.627   50        1  \n",
              "1                       0.351   31        0  \n",
              "2                       0.672   32        1  \n",
              "3                       0.167   21        0  \n",
              "4                       2.288   33        1  \n",
              "..                        ...  ...      ...  \n",
              "763                     0.171   63        0  \n",
              "764                     0.340   27        0  \n",
              "765                     0.245   30        0  \n",
              "766                     0.349   47        1  \n",
              "767                     0.315   23        0  \n",
              "\n",
              "[768 rows x 9 columns]"
            ],
            "text/html": [
              "\n",
              "  <div id=\"df-8d86237b-3f14-4fd1-8fc1-0b61843b616f\">\n",
              "    <div class=\"colab-df-container\">\n",
              "      <div>\n",
              "<style scoped>\n",
              "    .dataframe tbody tr th:only-of-type {\n",
              "        vertical-align: middle;\n",
              "    }\n",
              "\n",
              "    .dataframe tbody tr th {\n",
              "        vertical-align: top;\n",
              "    }\n",
              "\n",
              "    .dataframe thead th {\n",
              "        text-align: right;\n",
              "    }\n",
              "</style>\n",
              "<table border=\"1\" class=\"dataframe\">\n",
              "  <thead>\n",
              "    <tr style=\"text-align: right;\">\n",
              "      <th></th>\n",
              "      <th>Pregnancies</th>\n",
              "      <th>Glucose</th>\n",
              "      <th>BloodPressure</th>\n",
              "      <th>SkinThickness</th>\n",
              "      <th>Insulin</th>\n",
              "      <th>BMI</th>\n",
              "      <th>DiabetesPedigreeFunction</th>\n",
              "      <th>Age</th>\n",
              "      <th>Outcome</th>\n",
              "    </tr>\n",
              "  </thead>\n",
              "  <tbody>\n",
              "    <tr>\n",
              "      <th>0</th>\n",
              "      <td>6</td>\n",
              "      <td>148</td>\n",
              "      <td>72</td>\n",
              "      <td>35</td>\n",
              "      <td>0</td>\n",
              "      <td>33.6</td>\n",
              "      <td>0.627</td>\n",
              "      <td>50</td>\n",
              "      <td>1</td>\n",
              "    </tr>\n",
              "    <tr>\n",
              "      <th>1</th>\n",
              "      <td>1</td>\n",
              "      <td>85</td>\n",
              "      <td>66</td>\n",
              "      <td>29</td>\n",
              "      <td>0</td>\n",
              "      <td>26.6</td>\n",
              "      <td>0.351</td>\n",
              "      <td>31</td>\n",
              "      <td>0</td>\n",
              "    </tr>\n",
              "    <tr>\n",
              "      <th>2</th>\n",
              "      <td>8</td>\n",
              "      <td>183</td>\n",
              "      <td>64</td>\n",
              "      <td>0</td>\n",
              "      <td>0</td>\n",
              "      <td>23.3</td>\n",
              "      <td>0.672</td>\n",
              "      <td>32</td>\n",
              "      <td>1</td>\n",
              "    </tr>\n",
              "    <tr>\n",
              "      <th>3</th>\n",
              "      <td>1</td>\n",
              "      <td>89</td>\n",
              "      <td>66</td>\n",
              "      <td>23</td>\n",
              "      <td>94</td>\n",
              "      <td>28.1</td>\n",
              "      <td>0.167</td>\n",
              "      <td>21</td>\n",
              "      <td>0</td>\n",
              "    </tr>\n",
              "    <tr>\n",
              "      <th>4</th>\n",
              "      <td>0</td>\n",
              "      <td>137</td>\n",
              "      <td>40</td>\n",
              "      <td>35</td>\n",
              "      <td>168</td>\n",
              "      <td>43.1</td>\n",
              "      <td>2.288</td>\n",
              "      <td>33</td>\n",
              "      <td>1</td>\n",
              "    </tr>\n",
              "    <tr>\n",
              "      <th>...</th>\n",
              "      <td>...</td>\n",
              "      <td>...</td>\n",
              "      <td>...</td>\n",
              "      <td>...</td>\n",
              "      <td>...</td>\n",
              "      <td>...</td>\n",
              "      <td>...</td>\n",
              "      <td>...</td>\n",
              "      <td>...</td>\n",
              "    </tr>\n",
              "    <tr>\n",
              "      <th>763</th>\n",
              "      <td>10</td>\n",
              "      <td>101</td>\n",
              "      <td>76</td>\n",
              "      <td>48</td>\n",
              "      <td>180</td>\n",
              "      <td>32.9</td>\n",
              "      <td>0.171</td>\n",
              "      <td>63</td>\n",
              "      <td>0</td>\n",
              "    </tr>\n",
              "    <tr>\n",
              "      <th>764</th>\n",
              "      <td>2</td>\n",
              "      <td>122</td>\n",
              "      <td>70</td>\n",
              "      <td>27</td>\n",
              "      <td>0</td>\n",
              "      <td>36.8</td>\n",
              "      <td>0.340</td>\n",
              "      <td>27</td>\n",
              "      <td>0</td>\n",
              "    </tr>\n",
              "    <tr>\n",
              "      <th>765</th>\n",
              "      <td>5</td>\n",
              "      <td>121</td>\n",
              "      <td>72</td>\n",
              "      <td>23</td>\n",
              "      <td>112</td>\n",
              "      <td>26.2</td>\n",
              "      <td>0.245</td>\n",
              "      <td>30</td>\n",
              "      <td>0</td>\n",
              "    </tr>\n",
              "    <tr>\n",
              "      <th>766</th>\n",
              "      <td>1</td>\n",
              "      <td>126</td>\n",
              "      <td>60</td>\n",
              "      <td>0</td>\n",
              "      <td>0</td>\n",
              "      <td>30.1</td>\n",
              "      <td>0.349</td>\n",
              "      <td>47</td>\n",
              "      <td>1</td>\n",
              "    </tr>\n",
              "    <tr>\n",
              "      <th>767</th>\n",
              "      <td>1</td>\n",
              "      <td>93</td>\n",
              "      <td>70</td>\n",
              "      <td>31</td>\n",
              "      <td>0</td>\n",
              "      <td>30.4</td>\n",
              "      <td>0.315</td>\n",
              "      <td>23</td>\n",
              "      <td>0</td>\n",
              "    </tr>\n",
              "  </tbody>\n",
              "</table>\n",
              "<p>768 rows × 9 columns</p>\n",
              "</div>\n",
              "      <button class=\"colab-df-convert\" onclick=\"convertToInteractive('df-8d86237b-3f14-4fd1-8fc1-0b61843b616f')\"\n",
              "              title=\"Convert this dataframe to an interactive table.\"\n",
              "              style=\"display:none;\">\n",
              "        \n",
              "  <svg xmlns=\"http://www.w3.org/2000/svg\" height=\"24px\"viewBox=\"0 0 24 24\"\n",
              "       width=\"24px\">\n",
              "    <path d=\"M0 0h24v24H0V0z\" fill=\"none\"/>\n",
              "    <path d=\"M18.56 5.44l.94 2.06.94-2.06 2.06-.94-2.06-.94-.94-2.06-.94 2.06-2.06.94zm-11 1L8.5 8.5l.94-2.06 2.06-.94-2.06-.94L8.5 2.5l-.94 2.06-2.06.94zm10 10l.94 2.06.94-2.06 2.06-.94-2.06-.94-.94-2.06-.94 2.06-2.06.94z\"/><path d=\"M17.41 7.96l-1.37-1.37c-.4-.4-.92-.59-1.43-.59-.52 0-1.04.2-1.43.59L10.3 9.45l-7.72 7.72c-.78.78-.78 2.05 0 2.83L4 21.41c.39.39.9.59 1.41.59.51 0 1.02-.2 1.41-.59l7.78-7.78 2.81-2.81c.8-.78.8-2.07 0-2.86zM5.41 20L4 18.59l7.72-7.72 1.47 1.35L5.41 20z\"/>\n",
              "  </svg>\n",
              "      </button>\n",
              "      \n",
              "  <style>\n",
              "    .colab-df-container {\n",
              "      display:flex;\n",
              "      flex-wrap:wrap;\n",
              "      gap: 12px;\n",
              "    }\n",
              "\n",
              "    .colab-df-convert {\n",
              "      background-color: #E8F0FE;\n",
              "      border: none;\n",
              "      border-radius: 50%;\n",
              "      cursor: pointer;\n",
              "      display: none;\n",
              "      fill: #1967D2;\n",
              "      height: 32px;\n",
              "      padding: 0 0 0 0;\n",
              "      width: 32px;\n",
              "    }\n",
              "\n",
              "    .colab-df-convert:hover {\n",
              "      background-color: #E2EBFA;\n",
              "      box-shadow: 0px 1px 2px rgba(60, 64, 67, 0.3), 0px 1px 3px 1px rgba(60, 64, 67, 0.15);\n",
              "      fill: #174EA6;\n",
              "    }\n",
              "\n",
              "    [theme=dark] .colab-df-convert {\n",
              "      background-color: #3B4455;\n",
              "      fill: #D2E3FC;\n",
              "    }\n",
              "\n",
              "    [theme=dark] .colab-df-convert:hover {\n",
              "      background-color: #434B5C;\n",
              "      box-shadow: 0px 1px 3px 1px rgba(0, 0, 0, 0.15);\n",
              "      filter: drop-shadow(0px 1px 2px rgba(0, 0, 0, 0.3));\n",
              "      fill: #FFFFFF;\n",
              "    }\n",
              "  </style>\n",
              "\n",
              "      <script>\n",
              "        const buttonEl =\n",
              "          document.querySelector('#df-8d86237b-3f14-4fd1-8fc1-0b61843b616f button.colab-df-convert');\n",
              "        buttonEl.style.display =\n",
              "          google.colab.kernel.accessAllowed ? 'block' : 'none';\n",
              "\n",
              "        async function convertToInteractive(key) {\n",
              "          const element = document.querySelector('#df-8d86237b-3f14-4fd1-8fc1-0b61843b616f');\n",
              "          const dataTable =\n",
              "            await google.colab.kernel.invokeFunction('convertToInteractive',\n",
              "                                                     [key], {});\n",
              "          if (!dataTable) return;\n",
              "\n",
              "          const docLinkHtml = 'Like what you see? Visit the ' +\n",
              "            '<a target=\"_blank\" href=https://colab.research.google.com/notebooks/data_table.ipynb>data table notebook</a>'\n",
              "            + ' to learn more about interactive tables.';\n",
              "          element.innerHTML = '';\n",
              "          dataTable['output_type'] = 'display_data';\n",
              "          await google.colab.output.renderOutput(dataTable, element);\n",
              "          const docLink = document.createElement('div');\n",
              "          docLink.innerHTML = docLinkHtml;\n",
              "          element.appendChild(docLink);\n",
              "        }\n",
              "      </script>\n",
              "    </div>\n",
              "  </div>\n",
              "  "
            ]
          },
          "metadata": {},
          "execution_count": 22
        }
      ]
    },
    {
      "cell_type": "code",
      "source": [
        "df.describe().transpose()"
      ],
      "metadata": {
        "colab": {
          "base_uri": "https://localhost:8080/",
          "height": 331
        },
        "id": "nA11o_GYr3QB",
        "outputId": "4ded5810-286b-4d7b-cc7f-ed9f794ab5ee"
      },
      "execution_count": 23,
      "outputs": [
        {
          "output_type": "execute_result",
          "data": {
            "text/plain": [
              "                          count        mean         std     min       25%  \\\n",
              "Pregnancies               768.0    3.845052    3.369578   0.000   1.00000   \n",
              "Glucose                   768.0  120.894531   31.972618   0.000  99.00000   \n",
              "BloodPressure             768.0   69.105469   19.355807   0.000  62.00000   \n",
              "SkinThickness             768.0   20.536458   15.952218   0.000   0.00000   \n",
              "Insulin                   768.0   79.799479  115.244002   0.000   0.00000   \n",
              "BMI                       768.0   31.992578    7.884160   0.000  27.30000   \n",
              "DiabetesPedigreeFunction  768.0    0.471876    0.331329   0.078   0.24375   \n",
              "Age                       768.0   33.240885   11.760232  21.000  24.00000   \n",
              "Outcome                   768.0    0.348958    0.476951   0.000   0.00000   \n",
              "\n",
              "                               50%        75%     max  \n",
              "Pregnancies                 3.0000    6.00000   17.00  \n",
              "Glucose                   117.0000  140.25000  199.00  \n",
              "BloodPressure              72.0000   80.00000  122.00  \n",
              "SkinThickness              23.0000   32.00000   99.00  \n",
              "Insulin                    30.5000  127.25000  846.00  \n",
              "BMI                        32.0000   36.60000   67.10  \n",
              "DiabetesPedigreeFunction    0.3725    0.62625    2.42  \n",
              "Age                        29.0000   41.00000   81.00  \n",
              "Outcome                     0.0000    1.00000    1.00  "
            ],
            "text/html": [
              "\n",
              "  <div id=\"df-ae874c91-2d30-4b51-b200-1472fd1ced22\">\n",
              "    <div class=\"colab-df-container\">\n",
              "      <div>\n",
              "<style scoped>\n",
              "    .dataframe tbody tr th:only-of-type {\n",
              "        vertical-align: middle;\n",
              "    }\n",
              "\n",
              "    .dataframe tbody tr th {\n",
              "        vertical-align: top;\n",
              "    }\n",
              "\n",
              "    .dataframe thead th {\n",
              "        text-align: right;\n",
              "    }\n",
              "</style>\n",
              "<table border=\"1\" class=\"dataframe\">\n",
              "  <thead>\n",
              "    <tr style=\"text-align: right;\">\n",
              "      <th></th>\n",
              "      <th>count</th>\n",
              "      <th>mean</th>\n",
              "      <th>std</th>\n",
              "      <th>min</th>\n",
              "      <th>25%</th>\n",
              "      <th>50%</th>\n",
              "      <th>75%</th>\n",
              "      <th>max</th>\n",
              "    </tr>\n",
              "  </thead>\n",
              "  <tbody>\n",
              "    <tr>\n",
              "      <th>Pregnancies</th>\n",
              "      <td>768.0</td>\n",
              "      <td>3.845052</td>\n",
              "      <td>3.369578</td>\n",
              "      <td>0.000</td>\n",
              "      <td>1.00000</td>\n",
              "      <td>3.0000</td>\n",
              "      <td>6.00000</td>\n",
              "      <td>17.00</td>\n",
              "    </tr>\n",
              "    <tr>\n",
              "      <th>Glucose</th>\n",
              "      <td>768.0</td>\n",
              "      <td>120.894531</td>\n",
              "      <td>31.972618</td>\n",
              "      <td>0.000</td>\n",
              "      <td>99.00000</td>\n",
              "      <td>117.0000</td>\n",
              "      <td>140.25000</td>\n",
              "      <td>199.00</td>\n",
              "    </tr>\n",
              "    <tr>\n",
              "      <th>BloodPressure</th>\n",
              "      <td>768.0</td>\n",
              "      <td>69.105469</td>\n",
              "      <td>19.355807</td>\n",
              "      <td>0.000</td>\n",
              "      <td>62.00000</td>\n",
              "      <td>72.0000</td>\n",
              "      <td>80.00000</td>\n",
              "      <td>122.00</td>\n",
              "    </tr>\n",
              "    <tr>\n",
              "      <th>SkinThickness</th>\n",
              "      <td>768.0</td>\n",
              "      <td>20.536458</td>\n",
              "      <td>15.952218</td>\n",
              "      <td>0.000</td>\n",
              "      <td>0.00000</td>\n",
              "      <td>23.0000</td>\n",
              "      <td>32.00000</td>\n",
              "      <td>99.00</td>\n",
              "    </tr>\n",
              "    <tr>\n",
              "      <th>Insulin</th>\n",
              "      <td>768.0</td>\n",
              "      <td>79.799479</td>\n",
              "      <td>115.244002</td>\n",
              "      <td>0.000</td>\n",
              "      <td>0.00000</td>\n",
              "      <td>30.5000</td>\n",
              "      <td>127.25000</td>\n",
              "      <td>846.00</td>\n",
              "    </tr>\n",
              "    <tr>\n",
              "      <th>BMI</th>\n",
              "      <td>768.0</td>\n",
              "      <td>31.992578</td>\n",
              "      <td>7.884160</td>\n",
              "      <td>0.000</td>\n",
              "      <td>27.30000</td>\n",
              "      <td>32.0000</td>\n",
              "      <td>36.60000</td>\n",
              "      <td>67.10</td>\n",
              "    </tr>\n",
              "    <tr>\n",
              "      <th>DiabetesPedigreeFunction</th>\n",
              "      <td>768.0</td>\n",
              "      <td>0.471876</td>\n",
              "      <td>0.331329</td>\n",
              "      <td>0.078</td>\n",
              "      <td>0.24375</td>\n",
              "      <td>0.3725</td>\n",
              "      <td>0.62625</td>\n",
              "      <td>2.42</td>\n",
              "    </tr>\n",
              "    <tr>\n",
              "      <th>Age</th>\n",
              "      <td>768.0</td>\n",
              "      <td>33.240885</td>\n",
              "      <td>11.760232</td>\n",
              "      <td>21.000</td>\n",
              "      <td>24.00000</td>\n",
              "      <td>29.0000</td>\n",
              "      <td>41.00000</td>\n",
              "      <td>81.00</td>\n",
              "    </tr>\n",
              "    <tr>\n",
              "      <th>Outcome</th>\n",
              "      <td>768.0</td>\n",
              "      <td>0.348958</td>\n",
              "      <td>0.476951</td>\n",
              "      <td>0.000</td>\n",
              "      <td>0.00000</td>\n",
              "      <td>0.0000</td>\n",
              "      <td>1.00000</td>\n",
              "      <td>1.00</td>\n",
              "    </tr>\n",
              "  </tbody>\n",
              "</table>\n",
              "</div>\n",
              "      <button class=\"colab-df-convert\" onclick=\"convertToInteractive('df-ae874c91-2d30-4b51-b200-1472fd1ced22')\"\n",
              "              title=\"Convert this dataframe to an interactive table.\"\n",
              "              style=\"display:none;\">\n",
              "        \n",
              "  <svg xmlns=\"http://www.w3.org/2000/svg\" height=\"24px\"viewBox=\"0 0 24 24\"\n",
              "       width=\"24px\">\n",
              "    <path d=\"M0 0h24v24H0V0z\" fill=\"none\"/>\n",
              "    <path d=\"M18.56 5.44l.94 2.06.94-2.06 2.06-.94-2.06-.94-.94-2.06-.94 2.06-2.06.94zm-11 1L8.5 8.5l.94-2.06 2.06-.94-2.06-.94L8.5 2.5l-.94 2.06-2.06.94zm10 10l.94 2.06.94-2.06 2.06-.94-2.06-.94-.94-2.06-.94 2.06-2.06.94z\"/><path d=\"M17.41 7.96l-1.37-1.37c-.4-.4-.92-.59-1.43-.59-.52 0-1.04.2-1.43.59L10.3 9.45l-7.72 7.72c-.78.78-.78 2.05 0 2.83L4 21.41c.39.39.9.59 1.41.59.51 0 1.02-.2 1.41-.59l7.78-7.78 2.81-2.81c.8-.78.8-2.07 0-2.86zM5.41 20L4 18.59l7.72-7.72 1.47 1.35L5.41 20z\"/>\n",
              "  </svg>\n",
              "      </button>\n",
              "      \n",
              "  <style>\n",
              "    .colab-df-container {\n",
              "      display:flex;\n",
              "      flex-wrap:wrap;\n",
              "      gap: 12px;\n",
              "    }\n",
              "\n",
              "    .colab-df-convert {\n",
              "      background-color: #E8F0FE;\n",
              "      border: none;\n",
              "      border-radius: 50%;\n",
              "      cursor: pointer;\n",
              "      display: none;\n",
              "      fill: #1967D2;\n",
              "      height: 32px;\n",
              "      padding: 0 0 0 0;\n",
              "      width: 32px;\n",
              "    }\n",
              "\n",
              "    .colab-df-convert:hover {\n",
              "      background-color: #E2EBFA;\n",
              "      box-shadow: 0px 1px 2px rgba(60, 64, 67, 0.3), 0px 1px 3px 1px rgba(60, 64, 67, 0.15);\n",
              "      fill: #174EA6;\n",
              "    }\n",
              "\n",
              "    [theme=dark] .colab-df-convert {\n",
              "      background-color: #3B4455;\n",
              "      fill: #D2E3FC;\n",
              "    }\n",
              "\n",
              "    [theme=dark] .colab-df-convert:hover {\n",
              "      background-color: #434B5C;\n",
              "      box-shadow: 0px 1px 3px 1px rgba(0, 0, 0, 0.15);\n",
              "      filter: drop-shadow(0px 1px 2px rgba(0, 0, 0, 0.3));\n",
              "      fill: #FFFFFF;\n",
              "    }\n",
              "  </style>\n",
              "\n",
              "      <script>\n",
              "        const buttonEl =\n",
              "          document.querySelector('#df-ae874c91-2d30-4b51-b200-1472fd1ced22 button.colab-df-convert');\n",
              "        buttonEl.style.display =\n",
              "          google.colab.kernel.accessAllowed ? 'block' : 'none';\n",
              "\n",
              "        async function convertToInteractive(key) {\n",
              "          const element = document.querySelector('#df-ae874c91-2d30-4b51-b200-1472fd1ced22');\n",
              "          const dataTable =\n",
              "            await google.colab.kernel.invokeFunction('convertToInteractive',\n",
              "                                                     [key], {});\n",
              "          if (!dataTable) return;\n",
              "\n",
              "          const docLinkHtml = 'Like what you see? Visit the ' +\n",
              "            '<a target=\"_blank\" href=https://colab.research.google.com/notebooks/data_table.ipynb>data table notebook</a>'\n",
              "            + ' to learn more about interactive tables.';\n",
              "          element.innerHTML = '';\n",
              "          dataTable['output_type'] = 'display_data';\n",
              "          await google.colab.output.renderOutput(dataTable, element);\n",
              "          const docLink = document.createElement('div');\n",
              "          docLink.innerHTML = docLinkHtml;\n",
              "          element.appendChild(docLink);\n",
              "        }\n",
              "      </script>\n",
              "    </div>\n",
              "  </div>\n",
              "  "
            ]
          },
          "metadata": {},
          "execution_count": 23
        }
      ]
    },
    {
      "cell_type": "code",
      "source": [
        "df.info()"
      ],
      "metadata": {
        "colab": {
          "base_uri": "https://localhost:8080/"
        },
        "id": "HR47s9mEr555",
        "outputId": "08a21495-dbad-4a1f-c6ba-f3e6a60b7eab"
      },
      "execution_count": 24,
      "outputs": [
        {
          "output_type": "stream",
          "name": "stdout",
          "text": [
            "<class 'pandas.core.frame.DataFrame'>\n",
            "RangeIndex: 768 entries, 0 to 767\n",
            "Data columns (total 9 columns):\n",
            " #   Column                    Non-Null Count  Dtype  \n",
            "---  ------                    --------------  -----  \n",
            " 0   Pregnancies               768 non-null    int64  \n",
            " 1   Glucose                   768 non-null    int64  \n",
            " 2   BloodPressure             768 non-null    int64  \n",
            " 3   SkinThickness             768 non-null    int64  \n",
            " 4   Insulin                   768 non-null    int64  \n",
            " 5   BMI                       768 non-null    float64\n",
            " 6   DiabetesPedigreeFunction  768 non-null    float64\n",
            " 7   Age                       768 non-null    int64  \n",
            " 8   Outcome                   768 non-null    int64  \n",
            "dtypes: float64(2), int64(7)\n",
            "memory usage: 54.1 KB\n"
          ]
        }
      ]
    },
    {
      "cell_type": "code",
      "source": [
        "df.corr()['Outcome'].sort_values().plot(kind='bar')"
      ],
      "metadata": {
        "colab": {
          "base_uri": "https://localhost:8080/",
          "height": 404
        },
        "id": "oSaq01u_r_kX",
        "outputId": "6f755b89-f36a-4e9d-9cb3-b4d6e56a9fa9"
      },
      "execution_count": 25,
      "outputs": [
        {
          "output_type": "execute_result",
          "data": {
            "text/plain": [
              "<matplotlib.axes._subplots.AxesSubplot at 0x7f5b16d5f5d0>"
            ]
          },
          "metadata": {},
          "execution_count": 25
        },
        {
          "output_type": "display_data",
          "data": {
            "text/plain": [
              "<Figure size 432x288 with 1 Axes>"
            ],
            "image/png": "[encoded data removed]"
          },
          "metadata": {
            "needs_background": "light"
          }
        }
      ]
    },
    {
      "cell_type": "code",
      "source": [
        "X=df.drop('Outcome',axis=1).values"
      ],
      "metadata": {
        "id": "cyw4GqA7sNtJ"
      },
      "execution_count": 26,
      "outputs": []
    },
    {
      "cell_type": "code",
      "source": [
        "y=df['Outcome'].values"
      ],
      "metadata": {
        "id": "tbiepZBMs46d"
      },
      "execution_count": 27,
      "outputs": []
    },
    {
      "cell_type": "code",
      "source": [
        "X.shape"
      ],
      "metadata": {
        "colab": {
          "base_uri": "https://localhost:8080/"
        },
        "id": "U1OzeYv6s5UH",
        "outputId": "b55963fa-44e5-4580-a681-cea6580f5da2"
      },
      "execution_count": 28,
      "outputs": [
        {
          "output_type": "execute_result",
          "data": {
            "text/plain": [
              "(768, 8)"
            ]
          },
          "metadata": {},
          "execution_count": 28
        }
      ]
    },
    {
      "cell_type": "code",
      "source": [
        "y.shape"
      ],
      "metadata": {
        "colab": {
          "base_uri": "https://localhost:8080/"
        },
        "id": "QrS0UORLtHXe",
        "outputId": "7e3a0cd1-19c2-4845-cec2-11bdddc58666"
      },
      "execution_count": 29,
      "outputs": [
        {
          "output_type": "execute_result",
          "data": {
            "text/plain": [
              "(768,)"
            ]
          },
          "metadata": {},
          "execution_count": 29
        }
      ]
    },
    {
      "cell_type": "code",
      "source": [
        "from sklearn.model_selection import train_test_split"
      ],
      "metadata": {
        "id": "f4bm7T8BtKJ2"
      },
      "execution_count": 30,
      "outputs": []
    },
    {
      "cell_type": "code",
      "source": [
        "X_train, X_test, y_train, y_test = train_test_split(X, y, test_size=0.33,shuffle=True)"
      ],
      "metadata": {
        "id": "ZqAh257BtdiB"
      },
      "execution_count": 31,
      "outputs": []
    },
    {
      "cell_type": "code",
      "source": [
        "from sklearn.preprocessing import MinMaxScaler"
      ],
      "metadata": {
        "id": "LXI71-6EtkCH"
      },
      "execution_count": 32,
      "outputs": []
    },
    {
      "cell_type": "code",
      "source": [
        "scaler=MinMaxScaler()"
      ],
      "metadata": {
        "id": "J-inlF7bt7cA"
      },
      "execution_count": 33,
      "outputs": []
    },
    {
      "cell_type": "code",
      "source": [
        "X_train=scaler.fit_transform(X_train)"
      ],
      "metadata": {
        "id": "2B2GMz_tuCH7"
      },
      "execution_count": 34,
      "outputs": []
    },
    {
      "cell_type": "code",
      "source": [
        "X_test=scaler.transform(X_test)"
      ],
      "metadata": {
        "id": "MgrGe7YouLp1"
      },
      "execution_count": 35,
      "outputs": []
    },
    {
      "cell_type": "code",
      "source": [
        "from tensorflow.keras.layers import Dropout,Dense\n",
        "from tensorflow.keras.callbacks import EarlyStopping\n",
        "from tensorflow.keras.models import Sequential"
      ],
      "metadata": {
        "id": "er-ytSl4uQYH"
      },
      "execution_count": 36,
      "outputs": []
    },
    {
      "cell_type": "code",
      "source": [
        "from tensorflow.keras.callbacks import EarlyStopping"
      ],
      "metadata": {
        "id": "-kf0M6H9vctZ"
      },
      "execution_count": 37,
      "outputs": []
    },
    {
      "cell_type": "code",
      "source": [
        "early_stop=EarlyStopping(monitor='val_loss',mode='min',verbose=1,patience=20)"
      ],
      "metadata": {
        "id": "aWlbjVh3vntQ"
      },
      "execution_count": 38,
      "outputs": []
    },
    {
      "cell_type": "code",
      "source": [
        "model=Sequential()\n",
        "model.add(Dense(40,activation='relu'))\n",
        "model.add(Dropout(0.3))\n",
        "model.add(Dense(20,activation='relu'))\n",
        "model.add(Dropout(0.35))\n",
        "model.add(Dense(10,activation='relu'))\n",
        "model.add(Dropout(0.3))\n",
        "model.add(Dense(1,activation='sigmoid'))\n",
        "model.compile(optimizer='adam',loss='binary_crossentropy',metrics=['accuracy'])"
      ],
      "metadata": {
        "id": "8fBFOVP7u3Q4"
      },
      "execution_count": 39,
      "outputs": []
    },
    {
      "cell_type": "code",
      "source": [
        "model.fit(X_train,y_train,validation_data=(X_test,y_test),epochs=500,callbacks=[early_stop])"
      ],
      "metadata": {
        "colab": {
          "base_uri": "https://localhost:8080/"
        },
        "id": "bGpI3azsvaU4",
        "outputId": "afb2462e-2cb5-410a-ee3f-86513f7e831d"
      },
      "execution_count": 40,
      "outputs": [
        {
          "output_type": "stream",
          "name": "stdout",
          "text": [
            "Epoch 1/500\n",
            "17/17 [==============================] - 1s 13ms/step - loss: 0.6862 - accuracy: 0.5681 - val_loss: 0.6729 - val_accuracy: 0.6535\n",
            "Epoch 2/500\n",
            "17/17 [==============================] - 0s 5ms/step - loss: 0.6689 - accuracy: 0.6206 - val_loss: 0.6623 - val_accuracy: 0.6535\n",
            "Epoch 3/500\n",
            "17/17 [==============================] - 0s 4ms/step - loss: 0.6631 - accuracy: 0.6479 - val_loss: 0.6562 - val_accuracy: 0.6535\n",
            "Epoch 4/500\n",
            "17/17 [==============================] - 0s 4ms/step - loss: 0.6666 - accuracy: 0.6362 - val_loss: 0.6543 - val_accuracy: 0.6535\n",
            "Epoch 5/500\n",
            "17/17 [==============================] - 0s 5ms/step - loss: 0.6631 - accuracy: 0.6420 - val_loss: 0.6528 - val_accuracy: 0.6535\n",
            "Epoch 6/500\n",
            "17/17 [==============================] - 0s 4ms/step - loss: 0.6598 - accuracy: 0.6518 - val_loss: 0.6504 - val_accuracy: 0.6535\n",
            "Epoch 7/500\n",
            "17/17 [==============================] - 0s 4ms/step - loss: 0.6507 - accuracy: 0.6518 - val_loss: 0.6463 - val_accuracy: 0.6535\n",
            "Epoch 8/500\n",
            "17/17 [==============================] - 0s 4ms/step - loss: 0.6527 - accuracy: 0.6556 - val_loss: 0.6430 - val_accuracy: 0.6535\n",
            "Epoch 9/500\n",
            "17/17 [==============================] - 0s 4ms/step - loss: 0.6516 - accuracy: 0.6595 - val_loss: 0.6400 - val_accuracy: 0.6535\n",
            "Epoch 10/500\n",
            "17/17 [==============================] - 0s 4ms/step - loss: 0.6456 - accuracy: 0.6498 - val_loss: 0.6377 - val_accuracy: 0.6535\n",
            "Epoch 11/500\n",
            "17/17 [==============================] - 0s 4ms/step - loss: 0.6356 - accuracy: 0.6518 - val_loss: 0.6350 - val_accuracy: 0.6535\n",
            "Epoch 12/500\n",
            "17/17 [==============================] - 0s 4ms/step - loss: 0.6372 - accuracy: 0.6615 - val_loss: 0.6319 - val_accuracy: 0.6535\n",
            "Epoch 13/500\n",
            "17/17 [==============================] - 0s 4ms/step - loss: 0.6385 - accuracy: 0.6518 - val_loss: 0.6281 - val_accuracy: 0.6535\n",
            "Epoch 14/500\n",
            "17/17 [==============================] - 0s 5ms/step - loss: 0.6382 - accuracy: 0.6634 - val_loss: 0.6238 - val_accuracy: 0.6614\n",
            "Epoch 15/500\n",
            "17/17 [==============================] - 0s 4ms/step - loss: 0.6381 - accuracy: 0.6459 - val_loss: 0.6220 - val_accuracy: 0.6535\n",
            "Epoch 16/500\n",
            "17/17 [==============================] - 0s 4ms/step - loss: 0.6203 - accuracy: 0.6518 - val_loss: 0.6185 - val_accuracy: 0.6614\n",
            "Epoch 17/500\n",
            "17/17 [==============================] - 0s 4ms/step - loss: 0.6121 - accuracy: 0.6809 - val_loss: 0.6150 - val_accuracy: 0.6614\n",
            "Epoch 18/500\n",
            "17/17 [==============================] - 0s 5ms/step - loss: 0.6106 - accuracy: 0.6809 - val_loss: 0.6093 - val_accuracy: 0.6614\n",
            "Epoch 19/500\n",
            "17/17 [==============================] - 0s 4ms/step - loss: 0.6108 - accuracy: 0.6751 - val_loss: 0.6021 - val_accuracy: 0.7165\n",
            "Epoch 20/500\n",
            "17/17 [==============================] - 0s 4ms/step - loss: 0.5869 - accuracy: 0.7043 - val_loss: 0.5979 - val_accuracy: 0.7087\n",
            "Epoch 21/500\n",
            "17/17 [==============================] - 0s 4ms/step - loss: 0.6072 - accuracy: 0.6829 - val_loss: 0.5951 - val_accuracy: 0.6811\n",
            "Epoch 22/500\n",
            "17/17 [==============================] - 0s 4ms/step - loss: 0.5933 - accuracy: 0.6946 - val_loss: 0.5928 - val_accuracy: 0.7244\n",
            "Epoch 23/500\n",
            "17/17 [==============================] - 0s 4ms/step - loss: 0.5911 - accuracy: 0.7140 - val_loss: 0.5887 - val_accuracy: 0.7283\n",
            "Epoch 24/500\n",
            "17/17 [==============================] - 0s 4ms/step - loss: 0.5973 - accuracy: 0.6829 - val_loss: 0.5860 - val_accuracy: 0.7244\n",
            "Epoch 25/500\n",
            "17/17 [==============================] - 0s 4ms/step - loss: 0.5972 - accuracy: 0.6732 - val_loss: 0.5851 - val_accuracy: 0.7362\n",
            "Epoch 26/500\n",
            "17/17 [==============================] - 0s 4ms/step - loss: 0.5905 - accuracy: 0.6926 - val_loss: 0.5877 - val_accuracy: 0.7323\n",
            "Epoch 27/500\n",
            "17/17 [==============================] - 0s 4ms/step - loss: 0.5751 - accuracy: 0.7121 - val_loss: 0.5832 - val_accuracy: 0.7244\n",
            "Epoch 28/500\n",
            "17/17 [==============================] - 0s 4ms/step - loss: 0.5914 - accuracy: 0.6770 - val_loss: 0.5817 - val_accuracy: 0.7126\n",
            "Epoch 29/500\n",
            "17/17 [==============================] - 0s 4ms/step - loss: 0.5818 - accuracy: 0.7140 - val_loss: 0.5783 - val_accuracy: 0.7126\n",
            "Epoch 30/500\n",
            "17/17 [==============================] - 0s 4ms/step - loss: 0.5779 - accuracy: 0.7023 - val_loss: 0.5746 - val_accuracy: 0.7362\n",
            "Epoch 31/500\n",
            "17/17 [==============================] - 0s 4ms/step - loss: 0.5577 - accuracy: 0.7121 - val_loss: 0.5719 - val_accuracy: 0.7283\n",
            "Epoch 32/500\n",
            "17/17 [==============================] - 0s 4ms/step - loss: 0.5770 - accuracy: 0.7101 - val_loss: 0.5711 - val_accuracy: 0.7205\n",
            "Epoch 33/500\n",
            "17/17 [==============================] - 0s 4ms/step - loss: 0.5558 - accuracy: 0.7198 - val_loss: 0.5680 - val_accuracy: 0.7283\n",
            "Epoch 34/500\n",
            "17/17 [==============================] - 0s 4ms/step - loss: 0.5418 - accuracy: 0.7023 - val_loss: 0.5678 - val_accuracy: 0.7126\n",
            "Epoch 35/500\n",
            "17/17 [==============================] - 0s 4ms/step - loss: 0.5672 - accuracy: 0.6907 - val_loss: 0.5632 - val_accuracy: 0.7283\n",
            "Epoch 36/500\n",
            "17/17 [==============================] - 0s 4ms/step - loss: 0.5381 - accuracy: 0.7296 - val_loss: 0.5620 - val_accuracy: 0.7205\n",
            "Epoch 37/500\n",
            "17/17 [==============================] - 0s 4ms/step - loss: 0.5631 - accuracy: 0.6965 - val_loss: 0.5629 - val_accuracy: 0.7165\n",
            "Epoch 38/500\n",
            "17/17 [==============================] - 0s 4ms/step - loss: 0.5411 - accuracy: 0.7023 - val_loss: 0.5606 - val_accuracy: 0.7283\n",
            "Epoch 39/500\n",
            "17/17 [==============================] - 0s 4ms/step - loss: 0.5616 - accuracy: 0.7140 - val_loss: 0.5618 - val_accuracy: 0.7362\n",
            "Epoch 40/500\n",
            "17/17 [==============================] - 0s 4ms/step - loss: 0.5635 - accuracy: 0.6848 - val_loss: 0.5601 - val_accuracy: 0.7362\n",
            "Epoch 41/500\n",
            "17/17 [==============================] - 0s 4ms/step - loss: 0.5470 - accuracy: 0.7062 - val_loss: 0.5559 - val_accuracy: 0.7283\n",
            "Epoch 42/500\n",
            "17/17 [==============================] - 0s 4ms/step - loss: 0.5536 - accuracy: 0.7315 - val_loss: 0.5535 - val_accuracy: 0.7402\n",
            "Epoch 43/500\n",
            "17/17 [==============================] - 0s 4ms/step - loss: 0.5350 - accuracy: 0.7296 - val_loss: 0.5519 - val_accuracy: 0.7362\n",
            "Epoch 44/500\n",
            "17/17 [==============================] - 0s 4ms/step - loss: 0.5502 - accuracy: 0.7393 - val_loss: 0.5527 - val_accuracy: 0.7402\n",
            "Epoch 45/500\n",
            "17/17 [==============================] - 0s 5ms/step - loss: 0.5391 - accuracy: 0.7004 - val_loss: 0.5496 - val_accuracy: 0.7323\n",
            "Epoch 46/500\n",
            "17/17 [==============================] - 0s 4ms/step - loss: 0.5528 - accuracy: 0.7160 - val_loss: 0.5465 - val_accuracy: 0.7520\n",
            "Epoch 47/500\n",
            "17/17 [==============================] - 0s 4ms/step - loss: 0.5344 - accuracy: 0.7276 - val_loss: 0.5457 - val_accuracy: 0.7441\n",
            "Epoch 48/500\n",
            "17/17 [==============================] - 0s 4ms/step - loss: 0.5148 - accuracy: 0.7646 - val_loss: 0.5443 - val_accuracy: 0.7441\n",
            "Epoch 49/500\n",
            "17/17 [==============================] - 0s 4ms/step - loss: 0.5272 - accuracy: 0.7451 - val_loss: 0.5406 - val_accuracy: 0.7480\n",
            "Epoch 50/500\n",
            "17/17 [==============================] - 0s 4ms/step - loss: 0.5470 - accuracy: 0.7121 - val_loss: 0.5381 - val_accuracy: 0.7520\n",
            "Epoch 51/500\n",
            "17/17 [==============================] - 0s 4ms/step - loss: 0.5410 - accuracy: 0.7198 - val_loss: 0.5381 - val_accuracy: 0.7441\n",
            "Epoch 52/500\n",
            "17/17 [==============================] - 0s 4ms/step - loss: 0.5356 - accuracy: 0.7471 - val_loss: 0.5342 - val_accuracy: 0.7480\n",
            "Epoch 53/500\n",
            "17/17 [==============================] - 0s 4ms/step - loss: 0.5423 - accuracy: 0.7354 - val_loss: 0.5381 - val_accuracy: 0.7441\n",
            "Epoch 54/500\n",
            "17/17 [==============================] - 0s 5ms/step - loss: 0.5298 - accuracy: 0.7179 - val_loss: 0.5348 - val_accuracy: 0.7441\n",
            "Epoch 55/500\n",
            "17/17 [==============================] - 0s 4ms/step - loss: 0.5329 - accuracy: 0.6984 - val_loss: 0.5340 - val_accuracy: 0.7402\n",
            "Epoch 56/500\n",
            "17/17 [==============================] - 0s 5ms/step - loss: 0.5260 - accuracy: 0.7276 - val_loss: 0.5367 - val_accuracy: 0.7480\n",
            "Epoch 57/500\n",
            "17/17 [==============================] - 0s 4ms/step - loss: 0.5102 - accuracy: 0.7315 - val_loss: 0.5303 - val_accuracy: 0.7598\n",
            "Epoch 58/500\n",
            "17/17 [==============================] - 0s 4ms/step - loss: 0.5169 - accuracy: 0.7471 - val_loss: 0.5305 - val_accuracy: 0.7520\n",
            "Epoch 59/500\n",
            "17/17 [==============================] - 0s 4ms/step - loss: 0.5069 - accuracy: 0.7490 - val_loss: 0.5275 - val_accuracy: 0.7598\n",
            "Epoch 60/500\n",
            "17/17 [==============================] - 0s 4ms/step - loss: 0.5083 - accuracy: 0.7568 - val_loss: 0.5274 - val_accuracy: 0.7638\n",
            "Epoch 61/500\n",
            "17/17 [==============================] - 0s 4ms/step - loss: 0.5017 - accuracy: 0.7490 - val_loss: 0.5283 - val_accuracy: 0.7559\n",
            "Epoch 62/500\n",
            "17/17 [==============================] - 0s 4ms/step - loss: 0.4947 - accuracy: 0.7704 - val_loss: 0.5243 - val_accuracy: 0.7598\n",
            "Epoch 63/500\n",
            "17/17 [==============================] - 0s 4ms/step - loss: 0.5059 - accuracy: 0.7393 - val_loss: 0.5275 - val_accuracy: 0.7480\n",
            "Epoch 64/500\n",
            "17/17 [==============================] - 0s 5ms/step - loss: 0.5046 - accuracy: 0.7510 - val_loss: 0.5302 - val_accuracy: 0.7402\n",
            "Epoch 65/500\n",
            "17/17 [==============================] - 0s 4ms/step - loss: 0.5176 - accuracy: 0.7471 - val_loss: 0.5209 - val_accuracy: 0.7677\n",
            "Epoch 66/500\n",
            "17/17 [==============================] - 0s 4ms/step - loss: 0.4977 - accuracy: 0.7704 - val_loss: 0.5253 - val_accuracy: 0.7598\n",
            "Epoch 67/500\n",
            "17/17 [==============================] - 0s 4ms/step - loss: 0.5197 - accuracy: 0.7335 - val_loss: 0.5239 - val_accuracy: 0.7559\n",
            "Epoch 68/500\n",
            "17/17 [==============================] - 0s 4ms/step - loss: 0.4967 - accuracy: 0.7646 - val_loss: 0.5226 - val_accuracy: 0.7559\n",
            "Epoch 69/500\n",
            "17/17 [==============================] - 0s 4ms/step - loss: 0.5096 - accuracy: 0.7412 - val_loss: 0.5228 - val_accuracy: 0.7520\n",
            "Epoch 70/500\n",
            "17/17 [==============================] - 0s 4ms/step - loss: 0.4905 - accuracy: 0.7568 - val_loss: 0.5184 - val_accuracy: 0.7559\n",
            "Epoch 71/500\n",
            "17/17 [==============================] - 0s 5ms/step - loss: 0.5141 - accuracy: 0.7490 - val_loss: 0.5236 - val_accuracy: 0.7441\n",
            "Epoch 72/500\n",
            "17/17 [==============================] - 0s 4ms/step - loss: 0.5064 - accuracy: 0.7510 - val_loss: 0.5185 - val_accuracy: 0.7402\n",
            "Epoch 73/500\n",
            "17/17 [==============================] - 0s 4ms/step - loss: 0.4958 - accuracy: 0.7588 - val_loss: 0.5173 - val_accuracy: 0.7756\n",
            "Epoch 74/500\n",
            "17/17 [==============================] - 0s 4ms/step - loss: 0.5048 - accuracy: 0.7607 - val_loss: 0.5158 - val_accuracy: 0.7559\n",
            "Epoch 75/500\n",
            "17/17 [==============================] - 0s 4ms/step - loss: 0.4941 - accuracy: 0.7568 - val_loss: 0.5171 - val_accuracy: 0.7559\n",
            "Epoch 76/500\n",
            "17/17 [==============================] - 0s 4ms/step - loss: 0.5010 - accuracy: 0.7432 - val_loss: 0.5205 - val_accuracy: 0.7402\n",
            "Epoch 77/500\n",
            "17/17 [==============================] - 0s 4ms/step - loss: 0.5119 - accuracy: 0.7451 - val_loss: 0.5167 - val_accuracy: 0.7638\n",
            "Epoch 78/500\n",
            "17/17 [==============================] - 0s 4ms/step - loss: 0.4828 - accuracy: 0.7510 - val_loss: 0.5159 - val_accuracy: 0.7598\n",
            "Epoch 79/500\n",
            "17/17 [==============================] - 0s 4ms/step - loss: 0.4875 - accuracy: 0.7510 - val_loss: 0.5143 - val_accuracy: 0.7677\n",
            "Epoch 80/500\n",
            "17/17 [==============================] - 0s 5ms/step - loss: 0.4874 - accuracy: 0.7743 - val_loss: 0.5146 - val_accuracy: 0.7480\n",
            "Epoch 81/500\n",
            "17/17 [==============================] - 0s 4ms/step - loss: 0.4855 - accuracy: 0.7782 - val_loss: 0.5126 - val_accuracy: 0.7638\n",
            "Epoch 82/500\n",
            "17/17 [==============================] - 0s 4ms/step - loss: 0.4847 - accuracy: 0.7646 - val_loss: 0.5113 - val_accuracy: 0.7677\n",
            "Epoch 83/500\n",
            "17/17 [==============================] - 0s 4ms/step - loss: 0.5155 - accuracy: 0.7490 - val_loss: 0.5125 - val_accuracy: 0.7559\n",
            "Epoch 84/500\n",
            "17/17 [==============================] - 0s 4ms/step - loss: 0.5036 - accuracy: 0.7471 - val_loss: 0.5103 - val_accuracy: 0.7677\n",
            "Epoch 85/500\n",
            "17/17 [==============================] - 0s 4ms/step - loss: 0.4861 - accuracy: 0.7568 - val_loss: 0.5098 - val_accuracy: 0.7677\n",
            "Epoch 86/500\n",
            "17/17 [==============================] - 0s 4ms/step - loss: 0.4894 - accuracy: 0.7607 - val_loss: 0.5087 - val_accuracy: 0.7677\n",
            "Epoch 87/500\n",
            "17/17 [==============================] - 0s 4ms/step - loss: 0.4855 - accuracy: 0.7568 - val_loss: 0.5087 - val_accuracy: 0.7598\n",
            "Epoch 88/500\n",
            "17/17 [==============================] - 0s 4ms/step - loss: 0.5001 - accuracy: 0.7665 - val_loss: 0.5070 - val_accuracy: 0.7638\n",
            "Epoch 89/500\n",
            "17/17 [==============================] - 0s 4ms/step - loss: 0.4935 - accuracy: 0.7685 - val_loss: 0.5068 - val_accuracy: 0.7598\n",
            "Epoch 90/500\n",
            "17/17 [==============================] - 0s 4ms/step - loss: 0.4722 - accuracy: 0.7860 - val_loss: 0.5069 - val_accuracy: 0.7559\n",
            "Epoch 91/500\n",
            "17/17 [==============================] - 0s 4ms/step - loss: 0.4731 - accuracy: 0.7626 - val_loss: 0.5076 - val_accuracy: 0.7559\n",
            "Epoch 92/500\n",
            "17/17 [==============================] - 0s 4ms/step - loss: 0.4590 - accuracy: 0.7879 - val_loss: 0.5130 - val_accuracy: 0.7598\n",
            "Epoch 93/500\n",
            "17/17 [==============================] - 0s 4ms/step - loss: 0.4584 - accuracy: 0.7763 - val_loss: 0.5148 - val_accuracy: 0.7520\n",
            "Epoch 94/500\n",
            "17/17 [==============================] - 0s 4ms/step - loss: 0.4767 - accuracy: 0.7879 - val_loss: 0.5110 - val_accuracy: 0.7559\n",
            "Epoch 95/500\n",
            "17/17 [==============================] - 0s 4ms/step - loss: 0.4987 - accuracy: 0.7451 - val_loss: 0.5107 - val_accuracy: 0.7559\n",
            "Epoch 96/500\n",
            "17/17 [==============================] - 0s 4ms/step - loss: 0.4876 - accuracy: 0.7704 - val_loss: 0.5112 - val_accuracy: 0.7638\n",
            "Epoch 97/500\n",
            "17/17 [==============================] - 0s 4ms/step - loss: 0.4774 - accuracy: 0.7607 - val_loss: 0.5100 - val_accuracy: 0.7638\n",
            "Epoch 98/500\n",
            "17/17 [==============================] - 0s 4ms/step - loss: 0.4626 - accuracy: 0.7860 - val_loss: 0.5116 - val_accuracy: 0.7520\n",
            "Epoch 99/500\n",
            "17/17 [==============================] - 0s 4ms/step - loss: 0.4752 - accuracy: 0.7879 - val_loss: 0.5109 - val_accuracy: 0.7638\n",
            "Epoch 100/500\n",
            "17/17 [==============================] - 0s 4ms/step - loss: 0.4665 - accuracy: 0.7938 - val_loss: 0.5146 - val_accuracy: 0.7480\n",
            "Epoch 101/500\n",
            "17/17 [==============================] - 0s 5ms/step - loss: 0.4802 - accuracy: 0.7782 - val_loss: 0.5103 - val_accuracy: 0.7559\n",
            "Epoch 102/500\n",
            "17/17 [==============================] - 0s 4ms/step - loss: 0.4710 - accuracy: 0.7685 - val_loss: 0.5125 - val_accuracy: 0.7559\n",
            "Epoch 103/500\n",
            "17/17 [==============================] - 0s 4ms/step - loss: 0.4800 - accuracy: 0.7646 - val_loss: 0.5048 - val_accuracy: 0.7677\n",
            "Epoch 104/500\n",
            "17/17 [==============================] - 0s 4ms/step - loss: 0.4712 - accuracy: 0.7685 - val_loss: 0.5032 - val_accuracy: 0.7717\n",
            "Epoch 105/500\n",
            "17/17 [==============================] - 0s 4ms/step - loss: 0.4701 - accuracy: 0.7782 - val_loss: 0.5074 - val_accuracy: 0.7480\n",
            "Epoch 106/500\n",
            "17/17 [==============================] - 0s 4ms/step - loss: 0.4991 - accuracy: 0.7646 - val_loss: 0.5113 - val_accuracy: 0.7677\n",
            "Epoch 107/500\n",
            "17/17 [==============================] - 0s 5ms/step - loss: 0.4675 - accuracy: 0.7743 - val_loss: 0.5062 - val_accuracy: 0.7598\n",
            "Epoch 108/500\n",
            "17/17 [==============================] - 0s 4ms/step - loss: 0.4817 - accuracy: 0.7626 - val_loss: 0.5040 - val_accuracy: 0.7677\n",
            "Epoch 109/500\n",
            "17/17 [==============================] - 0s 4ms/step - loss: 0.4920 - accuracy: 0.7763 - val_loss: 0.5063 - val_accuracy: 0.7638\n",
            "Epoch 110/500\n",
            "17/17 [==============================] - 0s 4ms/step - loss: 0.4661 - accuracy: 0.7743 - val_loss: 0.5101 - val_accuracy: 0.7598\n",
            "Epoch 111/500\n",
            "17/17 [==============================] - 0s 4ms/step - loss: 0.4891 - accuracy: 0.7568 - val_loss: 0.5049 - val_accuracy: 0.7441\n",
            "Epoch 112/500\n",
            "17/17 [==============================] - 0s 4ms/step - loss: 0.4819 - accuracy: 0.7724 - val_loss: 0.5016 - val_accuracy: 0.7598\n",
            "Epoch 113/500\n",
            "17/17 [==============================] - 0s 4ms/step - loss: 0.4574 - accuracy: 0.7840 - val_loss: 0.5022 - val_accuracy: 0.7638\n",
            "Epoch 114/500\n",
            "17/17 [==============================] - 0s 4ms/step - loss: 0.4756 - accuracy: 0.7840 - val_loss: 0.5001 - val_accuracy: 0.7559\n",
            "Epoch 115/500\n",
            "17/17 [==============================] - 0s 4ms/step - loss: 0.4571 - accuracy: 0.7821 - val_loss: 0.5023 - val_accuracy: 0.7638\n",
            "Epoch 116/500\n",
            "17/17 [==============================] - 0s 4ms/step - loss: 0.4659 - accuracy: 0.7860 - val_loss: 0.5029 - val_accuracy: 0.7520\n",
            "Epoch 117/500\n",
            "17/17 [==============================] - 0s 4ms/step - loss: 0.4423 - accuracy: 0.7860 - val_loss: 0.5069 - val_accuracy: 0.7559\n",
            "Epoch 118/500\n",
            "17/17 [==============================] - 0s 4ms/step - loss: 0.4588 - accuracy: 0.7840 - val_loss: 0.5086 - val_accuracy: 0.7598\n",
            "Epoch 119/500\n",
            "17/17 [==============================] - 0s 4ms/step - loss: 0.4676 - accuracy: 0.7704 - val_loss: 0.5048 - val_accuracy: 0.7677\n",
            "Epoch 120/500\n",
            "17/17 [==============================] - 0s 4ms/step - loss: 0.4723 - accuracy: 0.7743 - val_loss: 0.5055 - val_accuracy: 0.7520\n",
            "Epoch 121/500\n",
            "17/17 [==============================] - 0s 4ms/step - loss: 0.4583 - accuracy: 0.7840 - val_loss: 0.5061 - val_accuracy: 0.7559\n",
            "Epoch 122/500\n",
            "17/17 [==============================] - 0s 4ms/step - loss: 0.4523 - accuracy: 0.7840 - val_loss: 0.5060 - val_accuracy: 0.7717\n",
            "Epoch 123/500\n",
            "17/17 [==============================] - 0s 4ms/step - loss: 0.4686 - accuracy: 0.7646 - val_loss: 0.5055 - val_accuracy: 0.7520\n",
            "Epoch 124/500\n",
            "17/17 [==============================] - 0s 4ms/step - loss: 0.4613 - accuracy: 0.7977 - val_loss: 0.5159 - val_accuracy: 0.7480\n",
            "Epoch 125/500\n",
            "17/17 [==============================] - 0s 5ms/step - loss: 0.4748 - accuracy: 0.7626 - val_loss: 0.5040 - val_accuracy: 0.7559\n",
            "Epoch 126/500\n",
            "17/17 [==============================] - 0s 4ms/step - loss: 0.4699 - accuracy: 0.7879 - val_loss: 0.5033 - val_accuracy: 0.7441\n",
            "Epoch 127/500\n",
            "17/17 [==============================] - 0s 4ms/step - loss: 0.4449 - accuracy: 0.7840 - val_loss: 0.5024 - val_accuracy: 0.7677\n",
            "Epoch 128/500\n",
            "17/17 [==============================] - 0s 5ms/step - loss: 0.4535 - accuracy: 0.7763 - val_loss: 0.5073 - val_accuracy: 0.7480\n",
            "Epoch 129/500\n",
            "17/17 [==============================] - 0s 4ms/step - loss: 0.4554 - accuracy: 0.7685 - val_loss: 0.5067 - val_accuracy: 0.7480\n",
            "Epoch 130/500\n",
            "17/17 [==============================] - 0s 4ms/step - loss: 0.4769 - accuracy: 0.7763 - val_loss: 0.5052 - val_accuracy: 0.7638\n",
            "Epoch 131/500\n",
            "17/17 [==============================] - 0s 4ms/step - loss: 0.4658 - accuracy: 0.7665 - val_loss: 0.5146 - val_accuracy: 0.7520\n",
            "Epoch 132/500\n",
            "17/17 [==============================] - 0s 4ms/step - loss: 0.4564 - accuracy: 0.7860 - val_loss: 0.5058 - val_accuracy: 0.7598\n",
            "Epoch 133/500\n",
            "17/17 [==============================] - 0s 4ms/step - loss: 0.4656 - accuracy: 0.7860 - val_loss: 0.5054 - val_accuracy: 0.7598\n",
            "Epoch 134/500\n",
            "17/17 [==============================] - 0s 4ms/step - loss: 0.4361 - accuracy: 0.8016 - val_loss: 0.5087 - val_accuracy: 0.7638\n",
            "Epoch 134: early stopping\n"
          ]
        },
        {
          "output_type": "execute_result",
          "data": {
            "text/plain": [
              "<keras.callbacks.History at 0x7f5b19dbde10>"
            ]
          },
          "metadata": {},
          "execution_count": 40
        }
      ]
    },
    {
      "cell_type": "code",
      "source": [
        "performence_metrics=pd.DataFrame(model.history.history)\n",
        "performence_metrics.plot()"
      ],
      "metadata": {
        "colab": {
          "base_uri": "https://localhost:8080/",
          "height": 283
        },
        "id": "u8pByBkPwFcH",
        "outputId": "db6d3e8e-6ddc-4d90-9eb4-b2ad4300b333"
      },
      "execution_count": 41,
      "outputs": [
        {
          "output_type": "execute_result",
          "data": {
            "text/plain": [
              "<matplotlib.axes._subplots.AxesSubplot at 0x7f5b18a6f390>"
            ]
          },
          "metadata": {},
          "execution_count": 41
        },
        {
          "output_type": "display_data",
          "data": {
            "text/plain": [
              "<Figure size 432x288 with 1 Axes>"
            ],
            "image/png": "[encoded data removed]"
          },
          "metadata": {
            "needs_background": "light"
          }
        }
      ]
    },
    {
      "cell_type": "code",
      "source": [
        "predictions=(model.predict(X_test) > 0.5).astype(\"int32\")"
      ],
      "metadata": {
        "colab": {
          "base_uri": "https://localhost:8080/"
        },
        "id": "phTBA5XjxJIn",
        "outputId": "a2a81d69-0a28-4fd9-da20-c9c9ea90ad70"
      },
      "execution_count": 42,
      "outputs": [
        {
          "output_type": "stream",
          "name": "stdout",
          "text": [
            "8/8 [==============================] - 0s 2ms/step\n"
          ]
        }
      ]
    },
    {
      "cell_type": "code",
      "source": [
        "predictions.shape"
      ],
      "metadata": {
        "colab": {
          "base_uri": "https://localhost:8080/"
        },
        "id": "RzXyd744xkzK",
        "outputId": "28694681-e696-4e6e-fc49-991f0a55a9e3"
      },
      "execution_count": 45,
      "outputs": [
        {
          "output_type": "execute_result",
          "data": {
            "text/plain": [
              "(254, 1)"
            ]
          },
          "metadata": {},
          "execution_count": 45
        }
      ]
    },
    {
      "cell_type": "code",
      "source": [
        "test_predictions=pd.Series(predictions.reshape(254,))"
      ],
      "metadata": {
        "id": "sMBvxfYgxVam"
      },
      "execution_count": 46,
      "outputs": []
    },
    {
      "cell_type": "code",
      "source": [
        "pred_df=pd.DataFrame(y_test,columns=['Y-True'])"
      ],
      "metadata": {
        "id": "jCWowq4QxYL8"
      },
      "execution_count": 49,
      "outputs": []
    },
    {
      "cell_type": "code",
      "source": [
        "pred_df=pd.concat([pred_df,test_predictions],axis=1)"
      ],
      "metadata": {
        "id": "mtYCZNpCx8By"
      },
      "execution_count": 52,
      "outputs": []
    },
    {
      "cell_type": "code",
      "source": [
        "pred_df.columns=['Y_true','Predicted Y']"
      ],
      "metadata": {
        "id": "MhMxHceBx1cj"
      },
      "execution_count": 54,
      "outputs": []
    },
    {
      "cell_type": "code",
      "source": [
        "from sklearn.metrics import confusion_matrix,classification_report"
      ],
      "metadata": {
        "id": "7azUI0DNyr9H"
      },
      "execution_count": 55,
      "outputs": []
    },
    {
      "cell_type": "code",
      "source": [
        "print(confusion_matrix(y_test,predictions))"
      ],
      "metadata": {
        "colab": {
          "base_uri": "https://localhost:8080/"
        },
        "id": "bFj6N73Wy7SE",
        "outputId": "c9ef984e-45ba-4ac1-a951-6debf6cb4753"
      },
      "execution_count": 56,
      "outputs": [
        {
          "output_type": "stream",
          "name": "stdout",
          "text": [
            "[[134  32]\n",
            " [ 28  60]]\n"
          ]
        }
      ]
    },
    {
      "cell_type": "code",
      "source": [
        "print(classification_report(y_test,predictions))"
      ],
      "metadata": {
        "colab": {
          "base_uri": "https://localhost:8080/"
        },
        "id": "SisYhxT9zGQr",
        "outputId": "e3d4544d-33a4-43bb-98f7-230b4962e1e7"
      },
      "execution_count": 57,
      "outputs": [
        {
          "output_type": "stream",
          "name": "stdout",
          "text": [
            "              precision    recall  f1-score   support\n",
            "\n",
            "           0       0.83      0.81      0.82       166\n",
            "           1       0.65      0.68      0.67        88\n",
            "\n",
            "    accuracy                           0.76       254\n",
            "   macro avg       0.74      0.74      0.74       254\n",
            "weighted avg       0.77      0.76      0.76       254\n",
            "\n"
          ]
        }
      ]
    },
    {
      "cell_type": "code",
      "source": [
        "model.save('diabetes_weights.h5')"
      ],
      "metadata": {
        "id": "PwAA0B1lzKdS"
      },
      "execution_count": 58,
      "outputs": []
    }
  ]
}